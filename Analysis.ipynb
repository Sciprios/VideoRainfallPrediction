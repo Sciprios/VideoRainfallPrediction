{
 "cells": [
  {
   "cell_type": "markdown",
   "metadata": {},
   "source": [
    "# Analysis\n",
    "\n",
    "This script contains the code required to analyse and compare several CNN models against MetOffice Rainfall."
   ]
  },
  {
   "cell_type": "code",
   "execution_count": 1,
   "metadata": {},
   "outputs": [],
   "source": [
    "from tensorflow.keras.models import load_model\n",
    "from tqdm.notebook import tqdm\n",
    "import matplotlib.pyplot as plt\n",
    "import numpy as np"
   ]
  },
  {
   "cell_type": "code",
   "execution_count": 2,
   "metadata": {},
   "outputs": [],
   "source": [
    "regions = [\"ES\",\"NS\", \"WS\",\"EM\",\"EE\",\"LD\",\"NEE\",\"NWE\",\"SEE\",\"SWE\",\"WAL\",\"WM\",\"YH\"]"
   ]
  },
  {
   "cell_type": "markdown",
   "metadata": {},
   "source": [
    "## Data Acquisition (Validation Only)\n",
    "\n",
    "First, data and models need extracting. The MetOffice and benchmark (CEH-GEAR) data is first to be extracted."
   ]
  },
  {
   "cell_type": "code",
   "execution_count": 42,
   "metadata": {},
   "outputs": [],
   "source": [
    "all_rf = \"D:/PHD_DATA/Video_11-02-2021/prepared-data/expected_all.npy\"\n",
    "benchmark_rf = \"D:/PHD_DATA/Video_11-02-2021/prepared-data/expected_valid.npy\"\n",
    "mo_rf = \"D:/PHD_DATA/Video_11-02-2021/prepared-data/mo_valid.npy\"\n",
    "\n",
    "all_rf = np.load(all_rf)[:, 2:]\n",
    "benchmark_rf = np.load(benchmark_rf)[:, 2:]\n",
    "mo_rf = np.load(mo_rf)[:, 2:]"
   ]
  },
  {
   "cell_type": "code",
   "execution_count": 43,
   "metadata": {},
   "outputs": [],
   "source": [
    "def get_video_data():\n",
    "    videos = \"D:/PHD_DATA/Video_11-02-2021/prepared-data/middle_valid.npy\"\n",
    "    videos = np.load(videos)\n",
    "    videos = np.swapaxes(videos, 1, 2)\n",
    "    videos = np.swapaxes(videos, 2, 3)\n",
    "    videos = np.swapaxes(videos, 3, 4)\n",
    "    videos[:, :, :, :, 0] = (videos[:, :, :, :, 0] - np.mean(videos[:, :, :, :, 0])) / (np.std(videos[:, :, :, :, 0]))\n",
    "    videos[:, :, :, :, 1] = (videos[:, :, :, :, 1] - np.mean(videos[:, :, :, :, 1])) / (np.std(videos[:, :, :, :, 1]))\n",
    "    return videos\n",
    "\n",
    "def get_frame_data():\n",
    "    frame = \"D:/PHD_DATA/Video_11-02-2021/prepared-data/single_valid.npy\"\n",
    "    frame = np.load(frame)\n",
    "    frame = np.swapaxes(frame, 1, 2)\n",
    "    frame = np.swapaxes(frame, 2, 3)\n",
    "    frame[:, :, :, 0] = (frame[:, :, :, 0] - np.mean(frame[:, :, :, 0])) / (np.std(frame[:, :, :, 0]))\n",
    "    frame[:, :, :, 1] = (frame[:, :, :, 1] - np.mean(frame[:, :, :, 1])) / (np.std(frame[:, :, :, 1]))\n",
    "    return frame"
   ]
  },
  {
   "cell_type": "code",
   "execution_count": 44,
   "metadata": {},
   "outputs": [],
   "source": [
    "videos = get_video_data()\n",
    "frames = get_frame_data()"
   ]
  },
  {
   "cell_type": "markdown",
   "metadata": {},
   "source": [
    "Next, the best performing models are selected and loaded."
   ]
  },
  {
   "cell_type": "code",
   "execution_count": 45,
   "metadata": {},
   "outputs": [],
   "source": [
    "single_frame_models = [\"ES-1613144925\",\"NS-1613145487\",\"WS-1613145925\",\"EM-1613146122\",\"EE-1613146475\",\"LD-1613146544\",\n",
    "                       \"NEE-1613146804\",\"NWE-1613147122\",\"SEE-1613147399\",\"SWE-1613147550\",\"WAL-1613147584\",\n",
    "                       \"WM-1613147875\",\"YH-1613148002\"]\n",
    "slow_fusion_models = [\"ES-1613065474\",\"NS-1613068975\",\"WS-1613071908\",\"EM-1613074818\",\"EE-1613079692\",\"LD-1613082862\",\n",
    "                      \"NEE-1613085567\",\"NWE-1613087292\",\"SEE-1613088892\",\"SWE-1613121864\",\"WAL-1613094356\",\n",
    "                      \"WM-1613096188\",\"YH-1613101007\"]\n",
    "earl_fusion_models = [\"ES-1613391631\",\"NS-1613405705\",\"WS-1613469119\",\"EM-1613488724\",\"EE-1613518618\",\"LD-1613548378\",\n",
    "                      \"NEE-1613569618\",\"NWE-1613588114\",\"SEE-1613620883\",\"SWE-1613646498\",\"WAL-1613689774\",\n",
    "                      \"WM-1613699686\",\"YH-1613730530\"]"
   ]
  },
  {
   "cell_type": "code",
   "execution_count": 46,
   "metadata": {},
   "outputs": [],
   "source": [
    "def load_models(names, folder):\n",
    "    models = []\n",
    "    for n in tqdm(names):\n",
    "        models.append(load_model(folder + n + \".mdl\"))\n",
    "    return models"
   ]
  },
  {
   "cell_type": "code",
   "execution_count": 8,
   "metadata": {},
   "outputs": [
    {
     "data": {
      "application/vnd.jupyter.widget-view+json": {
       "model_id": "ba9a1ac9f42c427ab71225eb702252b0",
       "version_major": 2,
       "version_minor": 0
      },
      "text/plain": [
       "HBox(children=(FloatProgress(value=0.0, max=13.0), HTML(value='')))"
      ]
     },
     "metadata": {},
     "output_type": "display_data"
    },
    {
     "name": "stdout",
     "output_type": "stream",
     "text": [
      "\n"
     ]
    },
    {
     "data": {
      "application/vnd.jupyter.widget-view+json": {
       "model_id": "9f0489438d8f4c51b7c3219ec9e7dc6c",
       "version_major": 2,
       "version_minor": 0
      },
      "text/plain": [
       "HBox(children=(FloatProgress(value=0.0, max=13.0), HTML(value='')))"
      ]
     },
     "metadata": {},
     "output_type": "display_data"
    },
    {
     "name": "stdout",
     "output_type": "stream",
     "text": [
      "\n"
     ]
    },
    {
     "data": {
      "application/vnd.jupyter.widget-view+json": {
       "model_id": "2876d9d4b58542a0a898cf46dfd96a57",
       "version_major": 2,
       "version_minor": 0
      },
      "text/plain": [
       "HBox(children=(FloatProgress(value=0.0, max=13.0), HTML(value='')))"
      ]
     },
     "metadata": {},
     "output_type": "display_data"
    },
    {
     "name": "stdout",
     "output_type": "stream",
     "text": [
      "\n"
     ]
    }
   ],
   "source": [
    "single_frame_models = load_models(single_frame_models, folder=\"D:/PHD_DATA/Video_11-02-2021/SingleFrame/models/\")\n",
    "slow_fusion_models = load_models(slow_fusion_models, folder=\"D:/PHD_DATA/Video_11-02-2021/SlowFusion/models/\")\n",
    "early_fusion_models = load_models(earl_fusion_models, folder=\"D:/PHD_DATA/Video_11-02-2021/EarlyFusion/models/\")"
   ]
  },
  {
   "cell_type": "markdown",
   "metadata": {},
   "source": [
    "## Evaluation\n",
    "\n",
    "Next, each model is evaluated by taking the RMSE for each region and comparing this to the MetOffice's RMSE."
   ]
  },
  {
   "cell_type": "code",
   "execution_count": 47,
   "metadata": {},
   "outputs": [],
   "source": [
    "reevaluate = False"
   ]
  },
  {
   "cell_type": "code",
   "execution_count": 48,
   "metadata": {},
   "outputs": [],
   "source": [
    "def get_predictions(models, inputs, regions):\n",
    "    \"\"\" Generates a matrix of predictions for the given model set.\n",
    "        Params:\n",
    "            models - A set of tensorflow models in the same order as regions.\n",
    "    \"\"\"\n",
    "    predictions = []\n",
    "    for ridx, r in tqdm(enumerate(regions), total=len(regions)):\n",
    "        model_preds = []\n",
    "        for iidx, v in enumerate(inputs):\n",
    "            model_preds.append(\n",
    "                models[ridx](np.expand_dims(v, 0))\n",
    "            )\n",
    "        predictions.append(model_preds)\n",
    "    return np.array(predictions)"
   ]
  },
  {
   "cell_type": "code",
   "execution_count": 54,
   "metadata": {},
   "outputs": [],
   "source": [
    "if reevaluate:\n",
    "    single_frame_predictions = get_predictions(single_frame_models, frames, regions).squeeze()\n",
    "    slow_fusion_predictions = get_predictions(slow_fusion_models, videos, regions).squeeze()\n",
    "    early_fusion_predictions = get_predictions(early_fusion_models, videos, regions).squeeze()\n",
    "else:\n",
    "    single_frame_predictions = np.load(\"D:/PHD_DATA/Video_11-02-2021/predictions/single-frame.npy\")\n",
    "    slow_fusion_predictions = np.load(\"D:/PHD_DATA/Video_11-02-2021/predictions/slow-fusion.npy\")\n",
    "    early_fusion_predictions = np.load(\"D:/PHD_DATA/Video_11-02-2021/predictions/early-fusion.npy\")\n",
    "\n",
    "# Unnormalize\n",
    "for ridx, r in enumerate(regions):\n",
    "    single_frame_predictions[ridx, :] = (single_frame_predictions[ridx, :] * (np.max(all_rf[:, ridx]) - np.min(all_rf[:, ridx]))) + np.min(all_rf[:, ridx])\n",
    "    slow_fusion_predictions[ridx, :] = (slow_fusion_predictions[ridx, :] * (np.max(all_rf[:, ridx]) - np.min(all_rf[:, ridx]))) + np.min(all_rf[:, ridx])\n",
    "    early_fusion_predictions[ridx, :] = (early_fusion_predictions[ridx, :] * (np.max(all_rf[:, ridx]) - np.min(all_rf[:, ridx]))) + np.min(all_rf[:, ridx])"
   ]
  },
  {
   "cell_type": "code",
   "execution_count": 55,
   "metadata": {},
   "outputs": [
    {
     "data": {
      "text/plain": [
       "(13, 84)"
      ]
     },
     "execution_count": 55,
     "metadata": {},
     "output_type": "execute_result"
    }
   ],
   "source": [
    "single_frame_predictions.shape"
   ]
  },
  {
   "cell_type": "markdown",
   "metadata": {},
   "source": [
    "Now we have the predictions it's time to plot the RMSEs for each region."
   ]
  },
  {
   "cell_type": "code",
   "execution_count": 56,
   "metadata": {},
   "outputs": [],
   "source": [
    "def get_rmses(model_predictions, mo_preds, benchmark, regions):\n",
    "    ## RMSES\n",
    "    # 0: Single Frame\n",
    "    # 1: Slow Fusion\n",
    "    # 2: Early Fusion\n",
    "    # 3: Met Office\n",
    "    ##\n",
    "    rmses = np.zeros((len(regions), len(model_predictions) + 1))\n",
    "    for ridx, r in enumerate(regions):\n",
    "        for midx, m in enumerate(model_predictions):\n",
    "            rmses[ridx, midx] = np.sqrt(np.mean(np.power((benchmark_rf[:, ridx] - m[ridx, :]), 2)))\n",
    "        rmses[ridx, -1] = np.sqrt(np.mean(np.power((benchmark_rf[:, ridx] - mo_rf[:, ridx]), 2)))\n",
    "    return rmses\n",
    "rmses = get_rmses([single_frame_predictions, slow_fusion_predictions, early_fusion_predictions], mo_rf, benchmark_rf, regions)"
   ]
  },
  {
   "cell_type": "code",
   "execution_count": 58,
   "metadata": {},
   "outputs": [
    {
     "data": {
      "text/plain": [
       "(13, 4)"
      ]
     },
     "execution_count": 58,
     "metadata": {},
     "output_type": "execute_result"
    }
   ],
   "source": [
    "rmses.shape"
   ]
  },
  {
   "cell_type": "code",
   "execution_count": 99,
   "metadata": {},
   "outputs": [
    {
     "data": {
      "image/png": "[encoded data removed]",
      "text/plain": [
       "<Figure size 540x360 with 1 Axes>"
      ]
     },
     "metadata": {
      "needs_background": "light"
     },
     "output_type": "display_data"
    },
    {
     "data": {
      "image/png": "[encoded data removed]",
      "text/plain": [
       "<Figure size 1440x180 with 4 Axes>"
      ]
     },
     "metadata": {
      "needs_background": "light"
     },
     "output_type": "display_data"
    }
   ],
   "source": [
    "def plot_rmses_one(rmses, labels, regions):\n",
    "    plt.rcParams['figure.figsize'] = [7.5, 5]\n",
    "    fig, axs = plt.subplots(nrows=1, ncols=1)\n",
    "    width = 0.25\n",
    "    colours = ['#ff564a', '#4a8fff', '#56a832', 'k']\n",
    "    \n",
    "    bars = [None, None, None, None]\n",
    "    positions = [-width*1.5, -width/2, width/2, width*1.5]\n",
    "    xs = []\n",
    "    \n",
    "    for ridx, r in enumerate(regions):\n",
    "        for rmseidx, rmse in enumerate(rmses[ridx, :]):\n",
    "            bars[rmseidx] = axs.bar(\n",
    "                ridx+positions[rmseidx]+0.2*ridx,\n",
    "                rmse,\n",
    "                color=colours[rmseidx],\n",
    "                width=width,\n",
    "                label=labels[rmseidx]\n",
    "            )\n",
    "        xs.append(ridx+0.2*ridx)\n",
    "    axs.set_ylabel(\"RMSE (mm)\")\n",
    "    axs.set_xlabel(\"Region\")\n",
    "    \n",
    "    axs.set_xticks(xs)\n",
    "    axs.set_xticklabels(regions, rotation=90, fontsize=12)\n",
    "    \n",
    "    axs.legend(bars, labels, fontsize=12)\n",
    "\n",
    "def plot_rmses_several(rmses, labels, regions):\n",
    "    plt.rcParams['figure.figsize'] = [5*rmses.shape[1], 2.5]\n",
    "    fig, axs = plt.subplots(nrows=1, ncols=rmses.shape[1])\n",
    "    width = 0.3\n",
    "    colours = ['#ff564a', '#4a8fff', '#56a832', 'k']\n",
    "    \n",
    "    for rmseidx in range(0, rmses.shape[1]):\n",
    "        for ridx, r in enumerate(regions):\n",
    "            axs[rmseidx].bar(\n",
    "                ridx,\n",
    "                rmses[ridx, rmseidx],\n",
    "                color=colours[rmseidx],\n",
    "                width=width,\n",
    "                label=labels[rmseidx]\n",
    "            )\n",
    "        \n",
    "        axs[rmseidx].set_ylabel(\"RMSE (mm)\")\n",
    "        axs[rmseidx].set_xlabel(\"Region\")\n",
    "\n",
    "        axs[rmseidx].set_xticks(range(0, 13))\n",
    "        axs[rmseidx].set_xticklabels(regions, rotation=90, fontsize=12)\n",
    "        axs[rmseidx].set_title(labels[rmseidx])    \n",
    "        \n",
    "        axs[rmseidx].set_ylim([0, 70])\n",
    "plot_rmses(rmses, [\"Single Frame\", \"Slow Fusion\", \"Early Fusion\", \"MetOffice\"], regions)\n",
    "plot_rmses_several(rmses, [\"Single Frame\", \"Slow Fusion\", \"Early Fusion\", \"MetOffice\"], regions)"
   ]
  },
  {
   "cell_type": "code",
   "execution_count": null,
   "metadata": {},
   "outputs": [],
   "source": []
  }
 ],
 "metadata": {
  "kernelspec": {
   "display_name": "Python 3",
   "language": "python",
   "name": "python3"
  },
  "language_info": {
   "codemirror_mode": {
    "name": "ipython",
    "version": 3
   },
   "file_extension": ".py",
   "mimetype": "text/x-python",
   "name": "python",
   "nbconvert_exporter": "python",
   "pygments_lexer": "ipython3",
   "version": "3.7.6"
  }
 },
 "nbformat": 4,
 "nbformat_minor": 4
}
