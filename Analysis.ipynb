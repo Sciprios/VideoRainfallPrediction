{
 "cells": [
  {
   "cell_type": "markdown",
   "metadata": {},
   "source": [
    "# Analysis\n",
    "\n",
    "This script contains the code required to analyse and compare several CNN models against MetOffice Rainfall."
   ]
  },
  {
   "cell_type": "code",
   "execution_count": 1,
   "metadata": {},
   "outputs": [
    {
     "name": "stderr",
     "output_type": "stream",
     "text": [
      "Using TensorFlow backend.\n",
      "C:\\Users\\Andy\\Anaconda3\\envs\\nn\\lib\\site-packages\\skimage\\io\\manage_plugins.py:23: UserWarning: Your installed pillow version is < 7.1.0. Several security issues (CVE-2020-11538, CVE-2020-10379, CVE-2020-10994, CVE-2020-10177) have been fixed in pillow 7.1.0 or higher. We recommend to upgrade this library.\n",
      "  from .collection import imread_collection_wrapper\n"
     ]
    }
   ],
   "source": [
    "from tensorflow.keras.models import load_model\n",
    "from vis.visualization import visualize_activation, overlay\n",
    "from tqdm.notebook import tqdm\n",
    "import matplotlib.pyplot as plt\n",
    "import numpy as np"
   ]
  },
  {
   "cell_type": "code",
   "execution_count": 43,
   "metadata": {},
   "outputs": [],
   "source": [
    "regions = [\"ES\",\"NS\", \"WS\",\"EM\",\"EE\",\"LD\",\"NEE\",\"NWE\",\"SEE\",\"SWE\",\"WAL\",\"WM\",\"YH\"]\n",
    "months = [\"Jan\",\"Feb\",\"Mar\",\"Apr\",\"May\",\"Jun\",\"Jul\",\"Aug\",\"Sep\",\"Oct\",\"Nov\",\"Dec\"]"
   ]
  },
  {
   "cell_type": "markdown",
   "metadata": {},
   "source": [
    "## Data Acquisition (Validation Only)\n",
    "\n",
    "First, data and models need extracting. The MetOffice and benchmark (CEH-GEAR) data is first to be extracted."
   ]
  },
  {
   "cell_type": "code",
   "execution_count": 3,
   "metadata": {},
   "outputs": [],
   "source": [
    "all_rf = \"D:/PHD_DATA/Video_11-02-2021/prepared-data/expected_all.npy\"\n",
    "benchmark_rf = \"D:/PHD_DATA/Video_11-02-2021/prepared-data/expected_valid.npy\"\n",
    "mo_rf = \"D:/PHD_DATA/Video_11-02-2021/prepared-data/mo_valid.npy\"\n",
    "\n",
    "all_rf = np.load(all_rf)[:, 2:]\n",
    "benchmark_rf = np.load(benchmark_rf)\n",
    "mo_rf = np.load(mo_rf)[:, 2:]"
   ]
  },
  {
   "cell_type": "code",
   "execution_count": 4,
   "metadata": {},
   "outputs": [],
   "source": [
    "def get_video_data():\n",
    "    videos = \"D:/PHD_DATA/Video_11-02-2021/prepared-data/middle_valid.npy\"\n",
    "    videos = np.load(videos)\n",
    "    videos = np.swapaxes(videos, 1, 2)\n",
    "    videos = np.swapaxes(videos, 2, 3)\n",
    "    videos = np.swapaxes(videos, 3, 4)\n",
    "    videos[:, :, :, :, 0] = (videos[:, :, :, :, 0] - np.mean(videos[:, :, :, :, 0])) / (np.std(videos[:, :, :, :, 0]))\n",
    "    videos[:, :, :, :, 1] = (videos[:, :, :, :, 1] - np.mean(videos[:, :, :, :, 1])) / (np.std(videos[:, :, :, :, 1]))\n",
    "    return videos\n",
    "\n",
    "def get_frame_data():\n",
    "    frame = \"D:/PHD_DATA/Video_11-02-2021/prepared-data/single_valid.npy\"\n",
    "    frame = np.load(frame)\n",
    "    frame = np.swapaxes(frame, 1, 2)\n",
    "    frame = np.swapaxes(frame, 2, 3)\n",
    "    frame[:, :, :, 0] = (frame[:, :, :, 0] - np.mean(frame[:, :, :, 0])) / (np.std(frame[:, :, :, 0]))\n",
    "    frame[:, :, :, 1] = (frame[:, :, :, 1] - np.mean(frame[:, :, :, 1])) / (np.std(frame[:, :, :, 1]))\n",
    "    return frame"
   ]
  },
  {
   "cell_type": "code",
   "execution_count": 5,
   "metadata": {},
   "outputs": [],
   "source": [
    "videos = get_video_data()\n",
    "frames = get_frame_data()"
   ]
  },
  {
   "cell_type": "markdown",
   "metadata": {},
   "source": [
    "Next, the best performing models are selected and loaded."
   ]
  },
  {
   "cell_type": "code",
   "execution_count": 6,
   "metadata": {},
   "outputs": [],
   "source": [
    "single_frame_models = [\"ES-1613144925\",\"NS-1613145487\",\"WS-1613145925\",\"EM-1613146122\",\"EE-1613146475\",\"LD-1613146544\",\n",
    "                       \"NEE-1613146804\",\"NWE-1613147122\",\"SEE-1613147399\",\"SWE-1613147550\",\"WAL-1613147584\",\n",
    "                       \"WM-1613147875\",\"YH-1613148002\"]\n",
    "slow_fusion_models = [\"ES-1613065474\",\"NS-1613068975\",\"WS-1613071908\",\"EM-1613074818\",\"EE-1613079692\",\"LD-1613082862\",\n",
    "                      \"NEE-1613085567\",\"NWE-1613087292\",\"SEE-1613088892\",\"SWE-1613121864\",\"WAL-1613094356\",\n",
    "                      \"WM-1613096188\",\"YH-1613101007\"]\n",
    "earl_fusion_models = [\"ES-1613391631\",\"NS-1613405705\",\"WS-1613469119\",\"EM-1613488724\",\"EE-1613518618\",\"LD-1613548378\",\n",
    "                      \"NEE-1613569618\",\"NWE-1613588114\",\"SEE-1613620883\",\"SWE-1613646498\",\"WAL-1613689774\",\n",
    "                      \"WM-1613699686\",\"YH-1613730530\"]"
   ]
  },
  {
   "cell_type": "code",
   "execution_count": 7,
   "metadata": {},
   "outputs": [],
   "source": [
    "def load_models(names, folder):\n",
    "    models = []\n",
    "    for n in tqdm(names):\n",
    "        models.append(load_model(folder + n + \".mdl\"))\n",
    "    return models"
   ]
  },
  {
   "cell_type": "code",
   "execution_count": 8,
   "metadata": {},
   "outputs": [
    {
     "data": {
      "application/vnd.jupyter.widget-view+json": {
       "model_id": "06da9ccf393d42358089a29de7f5c823",
       "version_major": 2,
       "version_minor": 0
      },
      "text/plain": [
       "HBox(children=(FloatProgress(value=0.0, max=13.0), HTML(value='')))"
      ]
     },
     "metadata": {},
     "output_type": "display_data"
    },
    {
     "name": "stdout",
     "output_type": "stream",
     "text": [
      "\n"
     ]
    },
    {
     "data": {
      "application/vnd.jupyter.widget-view+json": {
       "model_id": "c698184299d547888880461192416200",
       "version_major": 2,
       "version_minor": 0
      },
      "text/plain": [
       "HBox(children=(FloatProgress(value=0.0, max=13.0), HTML(value='')))"
      ]
     },
     "metadata": {},
     "output_type": "display_data"
    },
    {
     "name": "stdout",
     "output_type": "stream",
     "text": [
      "\n"
     ]
    },
    {
     "data": {
      "application/vnd.jupyter.widget-view+json": {
       "model_id": "a8ca7213ad8b4a21bf4e615dc9ec5dee",
       "version_major": 2,
       "version_minor": 0
      },
      "text/plain": [
       "HBox(children=(FloatProgress(value=0.0, max=13.0), HTML(value='')))"
      ]
     },
     "metadata": {},
     "output_type": "display_data"
    },
    {
     "name": "stdout",
     "output_type": "stream",
     "text": [
      "\n"
     ]
    }
   ],
   "source": [
    "single_frame_models = load_models(single_frame_models, folder=\"D:/PHD_DATA/Video_11-02-2021/SingleFrame/models/\")\n",
    "slow_fusion_models = load_models(slow_fusion_models, folder=\"D:/PHD_DATA/Video_11-02-2021/SlowFusion/models/\")\n",
    "early_fusion_models = load_models(earl_fusion_models, folder=\"D:/PHD_DATA/Video_11-02-2021/EarlyFusion/models/\")"
   ]
  },
  {
   "cell_type": "markdown",
   "metadata": {},
   "source": [
    "## Evaluation\n",
    "\n",
    "Next, each model is evaluated by taking the RMSE for each region and comparing this to the MetOffice's RMSE."
   ]
  },
  {
   "cell_type": "code",
   "execution_count": 36,
   "metadata": {},
   "outputs": [],
   "source": [
    "reevaluate = False"
   ]
  },
  {
   "cell_type": "code",
   "execution_count": 37,
   "metadata": {},
   "outputs": [],
   "source": [
    "def get_predictions(models, inputs, regions):\n",
    "    \"\"\" Generates a matrix of predictions for the given model set.\n",
    "        Params:\n",
    "            models - A set of tensorflow models in the same order as regions.\n",
    "    \"\"\"\n",
    "    predictions = []\n",
    "    for ridx, r in tqdm(enumerate(regions), total=len(regions)):\n",
    "        model_preds = []\n",
    "        for iidx, v in enumerate(inputs):\n",
    "            model_preds.append(\n",
    "                models[ridx](np.expand_dims(v, 0))\n",
    "            )\n",
    "        predictions.append(model_preds)\n",
    "    return np.array(predictions)"
   ]
  },
  {
   "cell_type": "code",
   "execution_count": 38,
   "metadata": {},
   "outputs": [],
   "source": [
    "if reevaluate:\n",
    "    single_frame_predictions = get_predictions(single_frame_models, frames, regions).squeeze()\n",
    "    slow_fusion_predictions = get_predictions(slow_fusion_models, videos, regions).squeeze()\n",
    "    early_fusion_predictions = get_predictions(early_fusion_models, videos, regions).squeeze()\n",
    "else:\n",
    "    single_frame_predictions = np.load(\"D:/PHD_DATA/Video_11-02-2021/predictions/single-frame.npy\")\n",
    "    slow_fusion_predictions = np.load(\"D:/PHD_DATA/Video_11-02-2021/predictions/slow-fusion.npy\")\n",
    "    early_fusion_predictions = np.load(\"D:/PHD_DATA/Video_11-02-2021/predictions/early-fusion.npy\")\n",
    "\n",
    "# Unnormalize\n",
    "for ridx, r in enumerate(regions):\n",
    "    single_frame_predictions[ridx, :] = (single_frame_predictions[ridx, :] * (np.max(all_rf[:, ridx]) - np.min(all_rf[:, ridx]))) + np.min(all_rf[:, ridx])\n",
    "    slow_fusion_predictions[ridx, :] = (slow_fusion_predictions[ridx, :] * (np.max(all_rf[:, ridx]) - np.min(all_rf[:, ridx]))) + np.min(all_rf[:, ridx])\n",
    "    early_fusion_predictions[ridx, :] = (early_fusion_predictions[ridx, :] * (np.max(all_rf[:, ridx]) - np.min(all_rf[:, ridx]))) + np.min(all_rf[:, ridx])"
   ]
  },
  {
   "cell_type": "code",
   "execution_count": 42,
   "metadata": {},
   "outputs": [
    {
     "data": {
      "text/plain": [
       "(84, 15)"
      ]
     },
     "execution_count": 42,
     "metadata": {},
     "output_type": "execute_result"
    }
   ],
   "source": [
    "benchmark_rf.shape"
   ]
  },
  {
   "cell_type": "markdown",
   "metadata": {},
   "source": [
    "Now we have the predictions it's time to plot the RMSEs for each region."
   ]
  },
  {
   "cell_type": "code",
   "execution_count": 50,
   "metadata": {},
   "outputs": [
    {
     "name": "stdout",
     "output_type": "stream",
     "text": [
      "97.20513897138939\n",
      "114.87392839607848\n",
      "112.14666035187277\n",
      "1861.4755158824923\n",
      "1870.7579275264477\n",
      "1860.4341503263447\n",
      "51.65297501238925\n",
      "52.90033060284905\n",
      "45.77399357941438\n",
      "[[  97.20513897  114.8739284   112.14666035   78.60511212]\n",
      " [1861.47551588 1870.75792753 1860.43415033 1899.71434474]\n",
      " [  51.65297501   52.9003306    45.77399358    0.        ]\n",
      " [   0.            0.            0.            0.        ]\n",
      " [   0.            0.            0.            0.        ]\n",
      " [   0.            0.            0.            0.        ]\n",
      " [   0.            0.            0.            0.        ]\n",
      " [   0.            0.            0.            0.        ]\n",
      " [   0.            0.            0.            0.        ]\n",
      " [   0.            0.            0.            0.        ]\n",
      " [   0.            0.            0.            0.        ]\n",
      " [   0.            0.            0.            0.        ]\n",
      " [   0.            0.            0.            0.        ]]\n"
     ]
    }
   ],
   "source": [
    "def get_regional_rmses(model_predictions, mo_preds, benchmark, regions):\n",
    "    ## RMSES\n",
    "    # 0: Single Frame\n",
    "    # 1: Slow Fusion\n",
    "    # 2: Early Fusion\n",
    "    # 3: Met Office\n",
    "    ##\n",
    "    rmses = np.zeros((len(regions), len(model_predictions) + 1))\n",
    "    for ridx, r in enumerate(regions):\n",
    "        for midx, m in enumerate(model_predictions):\n",
    "            rmses[ridx, midx] = np.sqrt(np.mean(np.power((benchmark_rf[:, ridx] - m[ridx, :]), 2)))\n",
    "            \n",
    "            print(benchmark_rf[:, ridx])\n",
    "            print(m[ridx, :])\n",
    "        if ridx==2:\n",
    "            print(rmses)\n",
    "            break\n",
    "        rmses[ridx, -1] = np.sqrt(np.mean(np.power((benchmark_rf[:, ridx] - mo_rf[:, ridx]), 2)))\n",
    "    return rmses\n",
    "\n",
    "rmses = get_regional_rmses([single_frame_predictions, slow_fusion_predictions, early_fusion_predictions], mo_rf, benchmark_rf[:, 2:], regions)"
   ]
  },
  {
   "cell_type": "code",
   "execution_count": 45,
   "metadata": {},
   "outputs": [
    {
     "data": {
      "text/plain": [
       "array([[  97.20513897,  114.8739284 ,  112.14666035,   78.60511212],\n",
       "       [1861.47551588, 1870.75792753, 1860.43415033, 1899.71434474],\n",
       "       [  51.65297501,   52.9003306 ,   45.77399358,   43.17025344],\n",
       "       [ 100.0217388 ,  105.87725193,  106.86218399,  101.78697706],\n",
       "       [ 109.73548182,  113.37106436,  112.76685501,  108.1251922 ],\n",
       "       [  23.04053171,   21.86213129,   20.97067412,   29.75562844],\n",
       "       [  38.28062013,   43.39428432,   45.07885628,   32.35409101],\n",
       "       [  52.50934836,   58.80757221,   60.53039458,   51.24930827],\n",
       "       [  35.33489036,   38.50421807,   34.65835764,   40.45525655],\n",
       "       [  39.38437153,   40.52171581,   35.63592198,   48.29323312],\n",
       "       [  65.40353066,   69.34337468,   65.85858427,   40.53910679],\n",
       "       [  44.07912321,   33.04725105,   28.51163849,   43.04181644],\n",
       "       [  66.46612032,   66.41152871,   66.15080957,   75.74352942]])"
      ]
     },
     "execution_count": 45,
     "metadata": {},
     "output_type": "execute_result"
    }
   ],
   "source": [
    "rmses"
   ]
  },
  {
   "cell_type": "code",
   "execution_count": 19,
   "metadata": {},
   "outputs": [
    {
     "data": {
      "image/png": "[encoded data removed]",
      "text/plain": [
       "<Figure size 540x360 with 1 Axes>"
      ]
     },
     "metadata": {
      "needs_background": "light"
     },
     "output_type": "display_data"
    },
    {
     "data": {
      "image/png": "[encoded data removed]",
      "text/plain": [
       "<Figure size 1440x180 with 4 Axes>"
      ]
     },
     "metadata": {
      "needs_background": "light"
     },
     "output_type": "display_data"
    }
   ],
   "source": [
    "def plot_rmses_one(rmses, labels, regions):\n",
    "    plt.rcParams['figure.figsize'] = [7.5, 5]\n",
    "    fig, axs = plt.subplots(nrows=1, ncols=1)\n",
    "    width = 0.25\n",
    "    colours = ['#ff564a', '#4a8fff', '#56a832', 'k']\n",
    "    \n",
    "    bars = [None, None, None, None]\n",
    "    positions = [-width*1.5, -width/2, width/2, width*1.5]\n",
    "    xs = []\n",
    "    \n",
    "    for ridx, r in enumerate(regions):\n",
    "        for rmseidx, rmse in enumerate(rmses[ridx, :]):\n",
    "            bars[rmseidx] = axs.bar(\n",
    "                ridx+positions[rmseidx]+0.2*ridx,\n",
    "                rmse,\n",
    "                color=colours[rmseidx],\n",
    "                width=width,\n",
    "                label=labels[rmseidx]\n",
    "            )\n",
    "        xs.append(ridx+0.2*ridx)\n",
    "    axs.set_ylabel(\"RMSE (mm)\")\n",
    "    axs.set_xlabel(\"Region\")\n",
    "    \n",
    "    axs.set_xticks(xs)\n",
    "    axs.set_xticklabels(regions, rotation=90, fontsize=12)\n",
    "    \n",
    "    axs.legend(bars, labels, fontsize=12)\n",
    "\n",
    "def plot_rmses_several(rmses, labels, regions):\n",
    "    plt.rcParams['figure.figsize'] = [5*rmses.shape[1], 2.5]\n",
    "    fig, axs = plt.subplots(nrows=1, ncols=rmses.shape[1])\n",
    "    width = 0.3\n",
    "    colours = ['#ff564a', '#4a8fff', '#56a832', 'k']\n",
    "    \n",
    "    for rmseidx in range(0, rmses.shape[1]):\n",
    "        for ridx, r in enumerate(regions):\n",
    "            axs[rmseidx].bar(\n",
    "                ridx,\n",
    "                rmses[ridx, rmseidx],\n",
    "                color=colours[rmseidx],\n",
    "                width=width,\n",
    "                label=labels[rmseidx]\n",
    "            )\n",
    "        \n",
    "        axs[rmseidx].set_ylabel(\"RMSE (mm)\")\n",
    "        axs[rmseidx].set_xlabel(\"Region\")\n",
    "\n",
    "        axs[rmseidx].set_xticks(range(0, 13))\n",
    "        axs[rmseidx].set_xticklabels(regions, rotation=90, fontsize=12)\n",
    "        axs[rmseidx].set_title(labels[rmseidx])    \n",
    "        \n",
    "        axs[rmseidx].set_ylim([0, 70])\n",
    "plot_rmses_one(rmses, [\"Single Frame\", \"Slow Fusion\", \"Early Fusion\", \"MetOffice\"], regions)\n",
    "plot_rmses_several(rmses, [\"Single Frame\", \"Slow Fusion\", \"Early Fusion\", \"MetOffice\"], regions)"
   ]
  },
  {
   "cell_type": "markdown",
   "metadata": {},
   "source": [
    "### Month based errors"
   ]
  },
  {
   "cell_type": "code",
   "execution_count": 16,
   "metadata": {},
   "outputs": [],
   "source": [
    "def get_monthly_rmses(model_predictions, mo_preds, benchmark, months):\n",
    "    month_rmses = np.zeros((12, len(model_predictions) + 1))\n",
    "    for midx, month in enumerate(range(1, 13)):\n",
    "        for model_idx, model_preds in enumerate(model_predictions):\n",
    "            month_rmses[midx, model_idx] = np.sqrt(np.mean(np.power((benchmark_rf[months == month, 2:] - model_preds[:, months == month].T), 2)))\n",
    "        month_rmses[midx, -1] = np.sqrt(np.mean(np.power((benchmark_rf[months == month, 2:] - mo_rf[months == month, :]), 2)))\n",
    "    return month_rmses\n",
    "\n",
    "\n",
    "rmses = get_monthly_rmses(\n",
    "    [single_frame_predictions, slow_fusion_predictions, early_fusion_predictions],\n",
    "    mo_rf,\n",
    "    benchmark_rf[:, 2:],\n",
    "    benchmark_rf[:, 0])"
   ]
  },
  {
   "cell_type": "code",
   "execution_count": 17,
   "metadata": {},
   "outputs": [
    {
     "data": {
      "image/png": "[encoded data removed]",
      "text/plain": [
       "<Figure size 1440x180 with 4 Axes>"
      ]
     },
     "metadata": {
      "needs_background": "light"
     },
     "output_type": "display_data"
    }
   ],
   "source": [
    "def plot_rmses_one(rmses, labels, months):\n",
    "    plt.rcParams['figure.figsize'] = [7.5, 5]\n",
    "    fig, axs = plt.subplots(nrows=1, ncols=1)\n",
    "    width = 0.25\n",
    "    colours = ['#ff564a', '#4a8fff', '#56a832', 'k']\n",
    "    \n",
    "    bars = [None, None, None, None]\n",
    "    positions = [-width*1.5, -width/2, width/2, width*1.5]\n",
    "    xs = []\n",
    "    \n",
    "    for midx in range(0, 12):\n",
    "        for rmseidx, rmse in enumerate(rmses[midx, :]):\n",
    "            bars[rmseidx] = axs.bar(\n",
    "                midx+positions[rmseidx]+0.2*midx,\n",
    "                rmse,\n",
    "                color=colours[rmseidx],\n",
    "                width=width,\n",
    "                label=months[midx]\n",
    "            )\n",
    "        xs.append(midx+0.2*midx)\n",
    "    axs.set_ylabel(\"RMSE (mm)\")\n",
    "    axs.set_xlabel(\"Region\")\n",
    "    \n",
    "    axs.set_xticks(xs)\n",
    "    axs.set_xticklabels(months, rotation=90, fontsize=12)\n",
    "    \n",
    "    axs.legend(bars, labels, fontsize=12)\n",
    "    \n",
    "def plot_rmses_several(rmses, labels, regions):\n",
    "    plt.rcParams['figure.figsize'] = [5*rmses.shape[1], 2.5]\n",
    "    fig, axs = plt.subplots(nrows=1, ncols=rmses.shape[1])\n",
    "    width = 0.3\n",
    "    colours = ['#ff564a', '#4a8fff', '#56a832', 'k']\n",
    "    \n",
    "    for midx in range(0, 12):\n",
    "        for rmseidx, rmse in enumerate(rmses[midx, :]):\n",
    "            axs[rmseidx].bar(\n",
    "                midx,\n",
    "                rmses[midx, rmseidx],\n",
    "                color=colours[rmseidx],\n",
    "                width=width,\n",
    "                label=labels[rmseidx]\n",
    "            )\n",
    "        \n",
    "            axs[rmseidx].set_ylabel(\"RMSE (mm)\")\n",
    "            axs[rmseidx].set_xlabel(\"Month\")\n",
    "\n",
    "            axs[rmseidx].set_xticks(range(0, 12))\n",
    "            axs[rmseidx].set_xticklabels(months, rotation=90, fontsize=12)\n",
    "            axs[rmseidx].set_title(labels[rmseidx])    \n",
    "\n",
    "            axs[rmseidx].set_ylim([0, 70])\n",
    "\n",
    "#plot_rmses_one(rmses, [\"Single Frame\", \"Slow Fusion\", \"Early Fusion\", \"MetOffice\"], months)\n",
    "plot_rmses_several(rmses, [\"Single Frame\", \"Slow Fusion\", \"Early Fusion\", \"MetOffice\"], regions)"
   ]
  },
  {
   "cell_type": "markdown",
   "metadata": {},
   "source": [
    "## Activation Playing"
   ]
  },
  {
   "cell_type": "code",
   "execution_count": 134,
   "metadata": {},
   "outputs": [
    {
     "ename": "FileNotFoundError",
     "evalue": "[WinError 2] The system cannot find the file specified: 'C:\\\\Users\\\\Andy\\\\AppData\\\\Local\\\\Temp\\\\m5iiid95.h5'",
     "output_type": "error",
     "traceback": [
      "\u001b[1;31m---------------------------------------------------------------------------\u001b[0m",
      "\u001b[1;31mAttributeError\u001b[0m                            Traceback (most recent call last)",
      "\u001b[1;32m~\\Anaconda3\\envs\\nn\\lib\\site-packages\\vis\\backend\\tensorflow_backend.py\u001b[0m in \u001b[0;36mmodify_model_backprop\u001b[1;34m(model, backprop_modifier)\u001b[0m\n\u001b[0;32m     85\u001b[0m         \u001b[1;31m# 1. Save original model\u001b[0m\u001b[1;33m\u001b[0m\u001b[1;33m\u001b[0m\u001b[1;33m\u001b[0m\u001b[0m\n\u001b[1;32m---> 86\u001b[1;33m         \u001b[0mmodel\u001b[0m\u001b[1;33m.\u001b[0m\u001b[0msave\u001b[0m\u001b[1;33m(\u001b[0m\u001b[0mmodel_path\u001b[0m\u001b[1;33m)\u001b[0m\u001b[1;33m\u001b[0m\u001b[1;33m\u001b[0m\u001b[0m\n\u001b[0m\u001b[0;32m     87\u001b[0m \u001b[1;33m\u001b[0m\u001b[0m\n",
      "\u001b[1;31mAttributeError\u001b[0m: 'str' object has no attribute 'save'",
      "\nDuring handling of the above exception, another exception occurred:\n",
      "\u001b[1;31mFileNotFoundError\u001b[0m                         Traceback (most recent call last)",
      "\u001b[1;32m<ipython-input-134-6b7ace8eaf6b>\u001b[0m in \u001b[0;36m<module>\u001b[1;34m\u001b[0m\n\u001b[0;32m      1\u001b[0m activations = visualize_activation(single_frame_models[0], -1, filter_indices=None,\n\u001b[1;32m----> 2\u001b[1;33m                                    wrt_tensor=None, seed_input=None, backprop_modifier='guided')\n\u001b[0m",
      "\u001b[1;32m~\\Anaconda3\\envs\\nn\\lib\\site-packages\\vis\\visualization\\activation_maximization.py\u001b[0m in \u001b[0;36mvisualize_activation\u001b[1;34m(model, layer_idx, filter_indices, wrt_tensor, seed_input, input_range, backprop_modifier, grad_modifier, act_max_weight, lp_norm_weight, tv_weight, **optimizer_params)\u001b[0m\n\u001b[0;32m     96\u001b[0m     \u001b[1;32mif\u001b[0m \u001b[0mbackprop_modifier\u001b[0m \u001b[1;32mis\u001b[0m \u001b[1;32mnot\u001b[0m \u001b[1;32mNone\u001b[0m\u001b[1;33m:\u001b[0m\u001b[1;33m\u001b[0m\u001b[1;33m\u001b[0m\u001b[0m\n\u001b[0;32m     97\u001b[0m         \u001b[0mmodifier_fn\u001b[0m \u001b[1;33m=\u001b[0m \u001b[0mget\u001b[0m\u001b[1;33m(\u001b[0m\u001b[0mbackprop_modifier\u001b[0m\u001b[1;33m)\u001b[0m\u001b[1;33m\u001b[0m\u001b[1;33m\u001b[0m\u001b[0m\n\u001b[1;32m---> 98\u001b[1;33m         \u001b[0mmodel\u001b[0m \u001b[1;33m=\u001b[0m \u001b[0mmodifier_fn\u001b[0m\u001b[1;33m(\u001b[0m\u001b[0mmodel\u001b[0m\u001b[1;33m)\u001b[0m\u001b[1;33m\u001b[0m\u001b[1;33m\u001b[0m\u001b[0m\n\u001b[0m\u001b[0;32m     99\u001b[0m \u001b[1;33m\u001b[0m\u001b[0m\n\u001b[0;32m    100\u001b[0m     losses = [\n",
      "\u001b[1;32m~\\Anaconda3\\envs\\nn\\lib\\site-packages\\vis\\backprop_modifiers.py\u001b[0m in \u001b[0;36mguided\u001b[1;34m(model)\u001b[0m\n\u001b[0;32m     15\u001b[0m         \u001b[1;33m(\u001b[0m\u001b[0mhttps\u001b[0m\u001b[1;33m:\u001b[0m\u001b[1;33m//\u001b[0m\u001b[0marxiv\u001b[0m\u001b[1;33m.\u001b[0m\u001b[0morg\u001b[0m\u001b[1;33m/\u001b[0m\u001b[0mpdf\u001b[0m\u001b[1;33m/\u001b[0m\u001b[1;36m1412.6806\u001b[0m\u001b[1;33m.\u001b[0m\u001b[0mpdf\u001b[0m\u001b[1;33m)\u001b[0m\u001b[1;33m\u001b[0m\u001b[1;33m\u001b[0m\u001b[0m\n\u001b[0;32m     16\u001b[0m     \"\"\"\n\u001b[1;32m---> 17\u001b[1;33m     \u001b[1;32mreturn\u001b[0m \u001b[0mbackend\u001b[0m\u001b[1;33m.\u001b[0m\u001b[0mmodify_model_backprop\u001b[0m\u001b[1;33m(\u001b[0m\u001b[0mmodel\u001b[0m\u001b[1;33m,\u001b[0m \u001b[1;34m'guided'\u001b[0m\u001b[1;33m)\u001b[0m\u001b[1;33m\u001b[0m\u001b[1;33m\u001b[0m\u001b[0m\n\u001b[0m\u001b[0;32m     18\u001b[0m \u001b[1;33m\u001b[0m\u001b[0m\n\u001b[0;32m     19\u001b[0m \u001b[1;33m\u001b[0m\u001b[0m\n",
      "\u001b[1;32m~\\Anaconda3\\envs\\nn\\lib\\site-packages\\vis\\backend\\tensorflow_backend.py\u001b[0m in \u001b[0;36mmodify_model_backprop\u001b[1;34m(model, backprop_modifier)\u001b[0m\n\u001b[0;32m    101\u001b[0m             \u001b[1;32mreturn\u001b[0m \u001b[0mmodified_model\u001b[0m\u001b[1;33m\u001b[0m\u001b[1;33m\u001b[0m\u001b[0m\n\u001b[0;32m    102\u001b[0m     \u001b[1;32mfinally\u001b[0m\u001b[1;33m:\u001b[0m\u001b[1;33m\u001b[0m\u001b[1;33m\u001b[0m\u001b[0m\n\u001b[1;32m--> 103\u001b[1;33m         \u001b[0mos\u001b[0m\u001b[1;33m.\u001b[0m\u001b[0mremove\u001b[0m\u001b[1;33m(\u001b[0m\u001b[0mmodel_path\u001b[0m\u001b[1;33m)\u001b[0m\u001b[1;33m\u001b[0m\u001b[1;33m\u001b[0m\u001b[0m\n\u001b[0m\u001b[0;32m    104\u001b[0m \u001b[1;33m\u001b[0m\u001b[0m\n\u001b[0;32m    105\u001b[0m \u001b[1;33m\u001b[0m\u001b[0m\n",
      "\u001b[1;31mFileNotFoundError\u001b[0m: [WinError 2] The system cannot find the file specified: 'C:\\\\Users\\\\Andy\\\\AppData\\\\Local\\\\Temp\\\\m5iiid95.h5'"
     ]
    }
   ],
   "source": [
    "activations = visualize_activation(single_frame_models[0], -1, filter_indices=None,\n",
    "                                   wrt_tensor=None, seed_input=None, backprop_modifier='guided')"
   ]
  },
  {
   "cell_type": "code",
   "execution_count": null,
   "metadata": {},
   "outputs": [],
   "source": []
  },
  {
   "cell_type": "code",
   "execution_count": null,
   "metadata": {},
   "outputs": [],
   "source": []
  },
  {
   "cell_type": "code",
   "execution_count": null,
   "metadata": {},
   "outputs": [],
   "source": []
  },
  {
   "cell_type": "code",
   "execution_count": null,
   "metadata": {},
   "outputs": [],
   "source": [
    "    ## RMSES\n",
    "    # 0: Single Frame\n",
    "    # 1: Slow Fusion\n",
    "    # 2: Early Fusion\n",
    "    # 3: Met Office\n",
    "    ##\n",
    "    rmses = np.zeros((len(regions), len(model_predictions) + 1))\n",
    "    for ridx, r in enumerate(regions):\n",
    "        for midx, m in enumerate(model_predictions):\n",
    "            rmses[ridx, midx] = np.sqrt(np.mean(np.power((benchmark_rf[:, ridx] - m[ridx, :]), 2)))\n",
    "        rmses[ridx, -1] = np.sqrt(np.mean(np.power((benchmark_rf[:, ridx] - mo_rf[:, ridx]), 2)))\n",
    "    return rmses\n"
   ]
  },
  {
   "cell_type": "code",
   "execution_count": null,
   "metadata": {},
   "outputs": [],
   "source": []
  },
  {
   "cell_type": "code",
   "execution_count": null,
   "metadata": {},
   "outputs": [],
   "source": []
  },
  {
   "cell_type": "code",
   "execution_count": null,
   "metadata": {},
   "outputs": [],
   "source": []
  },
  {
   "cell_type": "code",
   "execution_count": null,
   "metadata": {},
   "outputs": [],
   "source": []
  },
  {
   "cell_type": "code",
   "execution_count": null,
   "metadata": {},
   "outputs": [],
   "source": []
  },
  {
   "cell_type": "code",
   "execution_count": null,
   "metadata": {},
   "outputs": [],
   "source": []
  },
  {
   "cell_type": "code",
   "execution_count": null,
   "metadata": {},
   "outputs": [],
   "source": []
  },
  {
   "cell_type": "code",
   "execution_count": null,
   "metadata": {},
   "outputs": [],
   "source": [
    "[:, 2:]"
   ]
  }
 ],
 "metadata": {
  "kernelspec": {
   "display_name": "Python 3",
   "language": "python",
   "name": "python3"
  },
  "language_info": {
   "codemirror_mode": {
    "name": "ipython",
    "version": 3
   },
   "file_extension": ".py",
   "mimetype": "text/x-python",
   "name": "python",
   "nbconvert_exporter": "python",
   "pygments_lexer": "ipython3",
   "version": "3.7.6"
  }
 },
 "nbformat": 4,
 "nbformat_minor": 4
}
