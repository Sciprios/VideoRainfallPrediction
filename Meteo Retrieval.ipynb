{
 "cells": [
  {
   "cell_type": "markdown",
   "metadata": {},
   "source": [
    "# File Retrieval\n",
    "\n",
    "This script downloads required meteorological files from copernicus using the following parameters:\n",
    " - Center: Met Office\n",
    " - System: 12\n",
    " - Variables: 2m Air Temperature, Mean Sea Level Pressure, Total Precipiation\n",
    " - Leadtime: 720-1440 hours (24 hour increments)"
   ]
  },
  {
   "cell_type": "code",
   "execution_count": 1,
   "metadata": {},
   "outputs": [],
   "source": [
    "from tqdm.notebook import tqdm\n",
    "from datetime import date, timedelta\n",
    "from dateutil.relativedelta import relativedelta\n",
    "import cdsapi\n",
    "import os"
   ]
  },
  {
   "cell_type": "markdown",
   "metadata": {},
   "source": [
    "First, , where should we be sending the files? and define the meteorological variables."
   ]
  },
  {
   "cell_type": "code",
   "execution_count": 2,
   "metadata": {},
   "outputs": [],
   "source": [
    "output_folder = \"E:/31-12-2020/forecast-data/\"\n",
    "meteo_vars = ['2m_temperature', 'mean_sea_level_pressure', 'total_precipitation']"
   ]
  },
  {
   "cell_type": "code",
   "execution_count": null,
   "metadata": {
    "scrolled": true
   },
   "outputs": [
    {
     "data": {
      "application/vnd.jupyter.widget-view+json": {
       "model_id": "5dec8ccbad594bb7b8bfd1a711223020",
       "version_major": 2,
       "version_minor": 0
      },
      "text/plain": [
       "HBox(children=(FloatProgress(value=0.0, max=23.0), HTML(value='')))"
      ]
     },
     "metadata": {},
     "output_type": "display_data"
    },
    {
     "name": "stderr",
     "output_type": "stream",
     "text": [
      "2021-01-07 09:49:00,259 INFO Welcome to the CDS\n",
      "2021-01-07 09:49:00,263 INFO Sending request to https://cds.climate.copernicus.eu/api/v2/resources/seasonal-original-single-levels\n"
     ]
    },
    {
     "name": "stdout",
     "output_type": "stream",
     "text": [
      "Downloading 2-1993\n"
     ]
    },
    {
     "name": "stderr",
     "output_type": "stream",
     "text": [
      "2021-01-07 09:49:00,413 INFO Request is queued\n",
      "2021-01-07 09:49:02,965 INFO Request is running\n",
      "2021-01-07 09:51:51,694 INFO Request is completed\n",
      "2021-01-07 09:51:51,695 INFO Downloading https://download-0011.copernicus-climate.eu/cache-compute-0011/cache/data5/adaptor.mars.external-1610012942.4075627-2138-6-77e25773-15f3-4d18-a7f6-bcd6b592ec2e.grib to E:/31-12-2020/forecast-data/2-1993.grib (9.2M)\n",
      "2021-01-07 09:51:59,617 INFO Download rate 1.2M/s                                                                      \n",
      "2021-01-07 09:51:59,758 INFO Welcome to the CDS\n",
      "2021-01-07 09:51:59,760 INFO Sending request to https://cds.climate.copernicus.eu/api/v2/resources/seasonal-original-single-levels\n"
     ]
    },
    {
     "name": "stdout",
     "output_type": "stream",
     "text": [
      "Downloading 3-1993\n"
     ]
    },
    {
     "name": "stderr",
     "output_type": "stream",
     "text": [
      "2021-01-07 09:51:59,873 INFO Request is queued\n",
      "2021-01-07 09:53:14,982 INFO Request is running\n",
      "2021-01-07 09:58:17,870 INFO Request is completed\n",
      "2021-01-07 09:58:17,872 INFO Downloading https://download-0004.copernicus-climate.eu/cache-compute-0004/cache/data0/adaptor.mars.external-1610013182.8301787-25742-26-a0ac1af7-d620-471c-af53-f044f754486f.grib to E:/31-12-2020/forecast-data/3-1993.grib (8.9M)\n",
      "2021-01-07 09:58:22,339 INFO Download rate 2M/s                                                                        \n",
      "2021-01-07 09:58:22,469 INFO Welcome to the CDS\n",
      "2021-01-07 09:58:22,471 INFO Sending request to https://cds.climate.copernicus.eu/api/v2/resources/seasonal-original-single-levels\n"
     ]
    },
    {
     "name": "stdout",
     "output_type": "stream",
     "text": [
      "Downloading 4-1993\n"
     ]
    },
    {
     "name": "stderr",
     "output_type": "stream",
     "text": [
      "2021-01-07 09:58:22,614 INFO Request is queued\n",
      "2021-01-07 09:58:54,971 INFO Request is running\n",
      "2021-01-07 10:04:40,628 INFO Request is completed\n",
      "2021-01-07 10:04:40,630 INFO Downloading https://download-0015.copernicus-climate.eu/cache-compute-0015/cache/data6/adaptor.mars.external-1610013525.4465902-5698-24-55858821-b9d4-41ed-882f-6047ba9860bd.grib to E:/31-12-2020/forecast-data/4-1993.grib (9.2M)\n",
      "2021-01-07 10:04:45,086 INFO Download rate 2.1M/s                                                                      \n",
      "2021-01-07 10:04:45,206 INFO Welcome to the CDS\n",
      "2021-01-07 10:04:45,207 INFO Sending request to https://cds.climate.copernicus.eu/api/v2/resources/seasonal-original-single-levels\n"
     ]
    },
    {
     "name": "stdout",
     "output_type": "stream",
     "text": [
      "Downloading 5-1993\n"
     ]
    },
    {
     "name": "stderr",
     "output_type": "stream",
     "text": [
      "2021-01-07 10:04:45,389 INFO Request is queued\n",
      "2021-01-07 10:05:17,722 INFO Request is running\n",
      "2021-01-07 10:25:04,362 INFO Request is completed\n",
      "2021-01-07 10:25:04,365 INFO Downloading https://download-0001.copernicus-climate.eu/cache-compute-0001/cache/data6/adaptor.mars.external-1610013916.7668045-12327-21-c0fc9d70-dfec-444f-b273-74c17111cf7d.grib to E:/31-12-2020/forecast-data/5-1993.grib (8.9M)\n",
      "2021-01-07 10:25:08,781 INFO Download rate 2M/s                                                                        \n",
      "2021-01-07 10:25:08,906 INFO Welcome to the CDS\n",
      "2021-01-07 10:25:08,907 INFO Sending request to https://cds.climate.copernicus.eu/api/v2/resources/seasonal-original-single-levels\n"
     ]
    },
    {
     "name": "stdout",
     "output_type": "stream",
     "text": [
      "Downloading 6-1993\n"
     ]
    },
    {
     "name": "stderr",
     "output_type": "stream",
     "text": [
      "2021-01-07 10:25:09,061 INFO Request is queued\n",
      "2021-01-07 10:26:24,164 INFO Request is running\n",
      "2021-01-07 10:31:27,143 INFO Request is completed\n",
      "2021-01-07 10:31:27,146 INFO Downloading https://download-0010.copernicus-climate.eu/cache-compute-0010/cache/data2/adaptor.mars.external-1610015165.5231786-28729-3-856f793e-9a68-4cc3-9e1f-9ec01bdfa35b.grib to E:/31-12-2020/forecast-data/6-1993.grib (9.2M)\n",
      "2021-01-07 10:31:32,941 INFO Download rate 1.6M/s                                                                      \n",
      "2021-01-07 10:31:33,075 INFO Welcome to the CDS\n",
      "2021-01-07 10:31:33,076 INFO Sending request to https://cds.climate.copernicus.eu/api/v2/resources/seasonal-original-single-levels\n"
     ]
    },
    {
     "name": "stdout",
     "output_type": "stream",
     "text": [
      "Downloading 7-1993\n"
     ]
    },
    {
     "name": "stderr",
     "output_type": "stream",
     "text": [
      "2021-01-07 10:31:33,185 INFO Request is queued\n",
      "2021-01-07 10:32:48,294 INFO Request is running\n",
      "2021-01-07 10:35:51,061 INFO Request is completed\n",
      "2021-01-07 10:35:51,063 INFO Downloading https://download-0005.copernicus-climate.eu/cache-compute-0005/cache/data5/adaptor.mars.external-1610015544.2524831-11779-9-adcb97a1-df92-4500-8d43-ed7a14712c21.grib to E:/31-12-2020/forecast-data/7-1993.grib (9.2M)\n",
      "2021-01-07 10:35:55,572 INFO Download rate 2M/s                                                                        \n",
      "2021-01-07 10:35:55,707 INFO Welcome to the CDS\n",
      "2021-01-07 10:35:55,709 INFO Sending request to https://cds.climate.copernicus.eu/api/v2/resources/seasonal-original-single-levels\n"
     ]
    },
    {
     "name": "stdout",
     "output_type": "stream",
     "text": [
      "Downloading 8-1993\n"
     ]
    },
    {
     "name": "stderr",
     "output_type": "stream",
     "text": [
      "2021-01-07 10:35:55,812 INFO Request is queued\n",
      "2021-01-07 10:36:09,125 INFO Request is running\n",
      "2021-01-07 10:40:13,714 INFO Request is completed\n",
      "2021-01-07 10:40:13,716 INFO Downloading https://download-0014.copernicus-climate.eu/cache-compute-0014/cache/data0/adaptor.mars.external-1610015766.3380935-29375-27-2976b504-5058-4cd6-b562-d4fe1f37beb8.grib to E:/31-12-2020/forecast-data/8-1993.grib (8.9M)\n",
      "2021-01-07 10:40:18,362 INFO Download rate 1.9M/s                                                                      \n",
      "2021-01-07 10:40:18,530 INFO Welcome to the CDS\n",
      "2021-01-07 10:40:18,536 INFO Sending request to https://cds.climate.copernicus.eu/api/v2/resources/seasonal-original-single-levels\n"
     ]
    },
    {
     "name": "stdout",
     "output_type": "stream",
     "text": [
      "Downloading 9-1993\n"
     ]
    },
    {
     "name": "stderr",
     "output_type": "stream",
     "text": [
      "2021-01-07 10:40:18,724 INFO Request is queued\n",
      "2021-01-07 10:41:33,861 INFO Request is running\n",
      "2021-01-07 11:08:55,641 INFO Request is completed\n",
      "2021-01-07 11:08:55,781 INFO Downloading https://download-0015.copernicus-climate.eu/cache-compute-0015/cache/data7/adaptor.mars.external-1610016070.0632346-10288-1-270e32dd-6ee0-45f2-ae59-3ec8310bbb58.grib to E:/31-12-2020/forecast-data/9-1993.grib (9.2M)\n",
      "2021-01-07 11:09:05,436 INFO Download rate 982K/s                                                                      \n"
     ]
    },
    {
     "name": "stdout",
     "output_type": "stream",
     "text": [
      "Downloading 10-1993\n"
     ]
    },
    {
     "name": "stderr",
     "output_type": "stream",
     "text": [
      "2021-01-07 11:09:06,770 INFO Welcome to the CDS\n",
      "2021-01-07 11:09:06,820 INFO Sending request to https://cds.climate.copernicus.eu/api/v2/resources/seasonal-original-single-levels\n",
      "2021-01-07 11:09:07,059 INFO Request is queued\n",
      "2021-01-07 11:09:15,440 INFO Request is running\n",
      "2021-01-07 11:39:28,084 INFO Request is completed\n",
      "2021-01-07 11:39:28,144 INFO Downloading https://download-0002.copernicus-climate.eu/cache-compute-0002/cache/data7/adaptor.mars.external-1610017753.2284434-4019-24-67744825-4bb5-4e8d-84b7-1f22c0bc7795.grib to E:/31-12-2020/forecast-data/10-1993.grib (8.9M)\n",
      "2021-01-07 11:39:35,753 INFO Download rate 1.2M/s                                                                      \n",
      "2021-01-07 11:39:35,943 INFO Welcome to the CDS\n",
      "2021-01-07 11:39:35,944 INFO Sending request to https://cds.climate.copernicus.eu/api/v2/resources/seasonal-original-single-levels\n"
     ]
    },
    {
     "name": "stdout",
     "output_type": "stream",
     "text": [
      "Downloading 11-1993\n"
     ]
    },
    {
     "name": "stderr",
     "output_type": "stream",
     "text": [
      "2021-01-07 11:39:36,167 INFO Request is queued\n",
      "2021-01-07 11:39:49,486 INFO Request is running\n",
      "2021-01-07 11:57:54,899 INFO Request is completed\n",
      "2021-01-07 11:57:54,900 INFO Downloading https://download-0010.copernicus-climate.eu/cache-compute-0010/cache/data2/adaptor.mars.external-1610019586.745658-17420-17-7912ca4b-ccdc-4a6f-8675-f88a5b6e0743.grib to E:/31-12-2020/forecast-data/11-1993.grib (9.2M)\n",
      "2021-01-07 11:58:02,774 INFO Download rate 1.2M/s                                                                      \n",
      "2021-01-07 11:58:02,924 INFO Welcome to the CDS\n",
      "2021-01-07 11:58:02,925 INFO Sending request to https://cds.climate.copernicus.eu/api/v2/resources/seasonal-original-single-levels\n"
     ]
    },
    {
     "name": "stdout",
     "output_type": "stream",
     "text": [
      "Downloading 12-1993\n"
     ]
    },
    {
     "name": "stderr",
     "output_type": "stream",
     "text": [
      "2021-01-07 11:58:03,158 INFO Request is queued\n",
      "2021-01-07 11:58:35,498 INFO Request is running\n",
      "2021-01-07 12:02:21,040 INFO Request is completed\n",
      "2021-01-07 12:02:21,041 INFO Downloading https://download-0000.copernicus-climate.eu/cache-compute-0000/cache/data1/adaptor.mars.external-1610020708.0876331-24459-10-bfa20c58-d197-4631-a477-f5f5ab6136bc.grib to E:/31-12-2020/forecast-data/12-1993.grib (9.2M)\n",
      "2021-01-07 12:02:25,656 INFO Download rate 2M/s                                                                        \n",
      "2021-01-07 12:02:25,811 INFO Welcome to the CDS\n",
      "2021-01-07 12:02:25,813 INFO Sending request to https://cds.climate.copernicus.eu/api/v2/resources/seasonal-original-single-levels\n"
     ]
    },
    {
     "name": "stdout",
     "output_type": "stream",
     "text": [
      "Downloading 1-1994\n"
     ]
    },
    {
     "name": "stderr",
     "output_type": "stream",
     "text": [
      "2021-01-07 12:02:25,953 INFO Request is queued\n",
      "2021-01-07 12:03:41,054 INFO Request is running\n",
      "2021-01-07 12:08:43,929 INFO Request is completed\n",
      "2021-01-07 12:08:43,932 INFO Downloading https://download-0013.copernicus-climate.eu/cache-compute-0013/cache/data0/adaptor.mars.external-1610020998.259758-11229-3-7afda03e-1424-451b-a2ff-1d8b21af08c1.grib to E:/31-12-2020/forecast-data/1-1994.grib (8.3M)\n",
      "2021-01-07 12:08:47,975 INFO Download rate 2.1M/s                                                                      \n",
      "2021-01-07 12:08:48,123 INFO Welcome to the CDS\n",
      "2021-01-07 12:08:48,124 INFO Sending request to https://cds.climate.copernicus.eu/api/v2/resources/seasonal-original-single-levels\n"
     ]
    },
    {
     "name": "stdout",
     "output_type": "stream",
     "text": [
      "Downloading 2-1994\n"
     ]
    },
    {
     "name": "stderr",
     "output_type": "stream",
     "text": [
      "2021-01-07 12:08:48,282 INFO Request is queued\n",
      "2021-01-07 12:09:09,219 INFO Request is running\n"
     ]
    }
   ],
   "source": [
    "def get_max_min_leadtimes(fmonth, fyear, leadtime):\n",
    "    \"\"\" Determines how many hours are there before a day to be forecasted and how many hours should we be forecasting for.\n",
    "        Parameters:\n",
    "            fmonth - Month being forecasted from.\n",
    "            fyear - Year being forecasted from.\n",
    "            leadtime - Number of months leadtime to give.\n",
    "        Returns: Number of hours to first day intended for forecasting and number hours to last day of forecasting (inclusive).\"\"\"\n",
    "    fdate = date(fyear, fmonth, 1)\n",
    "    ddate = fdate + relativedelta(months=leadtime)\n",
    "    sdate = ddate + relativedelta(months=1) - relativedelta(days=1)\n",
    "    min_lt = ((ddate - fdate).days * 24)\n",
    "    max_lt = ((sdate - fdate).days * 24)\n",
    "    return min_lt, max_lt\n",
    "\n",
    "def download_files(meteo_vars, output_folder, leadtime=1):\n",
    "        if not os.path.exists(output_folder):\n",
    "            os.mkdir(output_folder)\n",
    "        for y in tqdm(range(1993, 2016)):\n",
    "            for m in range(1, 13):\n",
    "                if (y == 1993) and (m == 1):\n",
    "                    continue\n",
    "                file_name = output_folder + \"{}-{}.grib\".format(m, y)\n",
    "                # Get the leadtimes\n",
    "                mi, ma = get_max_min_leadtimes(m, y, leadtime)\n",
    "                leadtimes = list(range(mi, ma+1, 24))\n",
    "                if not os.path.exists(file_name):\n",
    "                    print(\"Downloading {}-{}\".format(m, y))\n",
    "                    if y == 1993:\n",
    "                        download_year(meteo_vars, m, y, leadtimes, file_name)\n",
    "                    else:\n",
    "                        download_year(meteo_vars, m, y, leadtimes, file_name)\n",
    "                else:\n",
    "                    print(\"Already exists: {}-{}\".format(m, y))\n",
    "        \n",
    "def download_year(meteo_vars, month, year, leadtimes, output_file):\n",
    "    c = cdsapi.Client()\n",
    "    c.retrieve(\n",
    "        'seasonal-original-single-levels',\n",
    "        {\n",
    "            'originating_centre': 'ukmo',\n",
    "            'system': '12',\n",
    "            'variable': meteo_vars,\n",
    "            'year': year,\n",
    "            'month': month,\n",
    "            'day': '01',\n",
    "            'leadtime_hour': leadtimes,\n",
    "            'area': [\n",
    "                70, -100, 10,\n",
    "                20,\n",
    "            ],\n",
    "            'format': 'grib',\n",
    "        },\n",
    "        output_file)\n",
    "    \n",
    "download_files(meteo_vars, output_folder)"
   ]
  },
  {
   "cell_type": "markdown",
   "metadata": {},
   "source": [
    "## Extract Relevant Data\n",
    "\n",
    "Next, from the forecasted meteorological data we extract the information into files describing the month being forecasted. E.g 01-2020 with a leadtime of 720-1440 will be stored in 02-2020."
   ]
  },
  {
   "cell_type": "code",
   "execution_count": 4,
   "metadata": {},
   "outputs": [
    {
     "name": "stderr",
     "output_type": "stream",
     "text": [
      "2021-01-07 09:03:59,498 INFO Welcome to the CDS\n",
      "2021-01-07 09:03:59,498 INFO Sending request to https://cds.climate.copernicus.eu/api/v2/resources/seasonal-original-single-levels\n",
      "2021-01-07 09:03:59,618 INFO Request is queued\n",
      "2021-01-07 09:06:50,938 INFO Request is completed\n",
      "2021-01-07 09:06:50,938 INFO Downloading https://download-0001.copernicus-climate.eu/cache-compute-0001/cache/data3/adaptor.mars.external-1610010384.9551327-26818-12-bf3a0d4f-9a7c-4fb5-83fe-d9b382b062b6.grib to test.grib (8.7M)\n",
      "2021-01-07 09:06:55,003 INFO Download rate 2.2M/s                                                                      \n"
     ]
    },
    {
     "data": {
      "text/plain": [
       "Result(content_length=9166080,content_type=application/x-grib,location=https://download-0001.copernicus-climate.eu/cache-compute-0001/cache/data3/adaptor.mars.external-1610010384.9551327-26818-12-bf3a0d4f-9a7c-4fb5-83fe-d9b382b062b6.grib)"
      ]
     },
     "execution_count": 4,
     "metadata": {},
     "output_type": "execute_result"
    }
   ],
   "source": [
    "c = cdsapi.Client()\n",
    "c.retrieve(\n",
    "    'seasonal-original-single-levels',\n",
    "    {\n",
    "        'originating_centre': 'ukmo',\n",
    "        'system': '12',\n",
    "        'variable': ['2m_temperature', 'mean_sea_level_pressure', 'total_precipitation'],\n",
    "        'year': 1993,\n",
    "        'month': 2,\n",
    "        'day': '01',\n",
    "        'leadtime_hour': [\n",
    "            '720', '732', '744',\n",
    "            '792', '804', '816',\n",
    "            '864', '876', '888',\n",
    "            '936', '948', '960',\n",
    "            '1008', '1020', '1032',\n",
    "            '1080', '1104', '1128',\n",
    "            '1152', '1176', '1200',\n",
    "            '1224', '1248', '1272',\n",
    "            '1296', '1320', '1344',\n",
    "            '1368', '1392', '1416',\n",
    "            '1440',\n",
    "        ],\n",
    "        'area': [\n",
    "            70, -100, 10,\n",
    "            20,\n",
    "        ],\n",
    "        'format': 'grib',\n",
    "    },\n",
    "    \"test.grib\")"
   ]
  },
  {
   "cell_type": "code",
   "execution_count": null,
   "metadata": {},
   "outputs": [],
   "source": []
  },
  {
   "cell_type": "code",
   "execution_count": null,
   "metadata": {},
   "outputs": [],
   "source": []
  },
  {
   "cell_type": "code",
   "execution_count": null,
   "metadata": {},
   "outputs": [],
   "source": [
    "c = cdsapi.Client()\n",
    "\n",
    "c.retrieve(\n",
    "    'seasonal-original-single-levels',\n",
    "    {\n",
    "        'format': 'grib',\n",
    "        'originating_centre': 'ukmo',\n",
    "        'system': '12',\n",
    "        'variable': [\n",
    "            '2m_temperature', 'mean_sea_level_pressure', 'total_precipitation',\n",
    "        ],\n",
    "        'year': '1993',\n",
    "        'month': '02',\n",
    "        'day': [\n",
    "            '01', '09', '17',\n",
    "            '25',\n",
    "        ],\n",
    "        'leadtime_hour': '720',\n",
    "        'area': [\n",
    "            70, -100, 10,\n",
    "            20,\n",
    "        ],\n",
    "    },\n",
    "    'download.grib')"
   ]
  }
 ],
 "metadata": {
  "kernelspec": {
   "display_name": "Python 3",
   "language": "python",
   "name": "python3"
  },
  "language_info": {
   "codemirror_mode": {
    "name": "ipython",
    "version": 3
   },
   "file_extension": ".py",
   "mimetype": "text/x-python",
   "name": "python",
   "nbconvert_exporter": "python",
   "pygments_lexer": "ipython3",
   "version": "3.7.6"
  }
 },
 "nbformat": 4,
 "nbformat_minor": 4
}
