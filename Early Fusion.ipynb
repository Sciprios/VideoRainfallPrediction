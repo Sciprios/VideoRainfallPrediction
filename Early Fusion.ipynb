{
 "cells": [
  {
   "cell_type": "markdown",
   "metadata": {},
   "source": [
    "# Early Fusion\n",
    "\n",
    "This script takes all frames at once and passes them through a cnn."
   ]
  },
  {
   "cell_type": "code",
   "execution_count": 3,
   "metadata": {
    "scrolled": true
   },
   "outputs": [],
   "source": [
    "import tensorflow as tf\n",
    "from tensorflow.keras.models import Sequential, save_model\n",
    "from tensorflow.keras.layers import Dense, Dropout, Activation, Flatten, Conv2D, Conv3D, MaxPooling2D, MaxPooling3D\n",
    "from tensorflow.keras.callbacks import TensorBoard\n",
    "from tensorflow.keras.optimizers import Adam\n",
    "import time\n",
    "import numpy as np"
   ]
  },
  {
   "cell_type": "markdown",
   "metadata": {},
   "source": [
    "## 1. Load Data\n",
    "\n",
    "To begin, data for a middle frames model must be loaded along with the expected regional rainfall values."
   ]
  },
  {
   "cell_type": "code",
   "execution_count": 19,
   "metadata": {},
   "outputs": [],
   "source": [
    "training_datafile = \"E:/31-12-2020/prepared-data/middle_train.npy\"\n",
    "validation_datafile = \"E:/31-12-2020/prepared-data/middle_valid.npy\"\n",
    "\n",
    "training_rainfallfile = \"E:/31-12-2020/prepared-data/expected_train.npy\"\n",
    "validation_rainfallfile = \"E:/31-12-2020/prepared-data/expected_valid.npy\""
   ]
  },
  {
   "cell_type": "code",
   "execution_count": 20,
   "metadata": {},
   "outputs": [],
   "source": [
    "training_videos = np.load(training_datafile)\n",
    "validation_videos = np.load(validation_datafile)\n",
    "\n",
    "training_rainfall = np.load(training_rainfallfile)[:, 2:]\n",
    "validation_rainfall = np.load(validation_rainfallfile)[:, 2:]"
   ]
  },
  {
   "cell_type": "code",
   "execution_count": 21,
   "metadata": {},
   "outputs": [],
   "source": [
    "# We need them in X, Y, COLOURS\n",
    "training_videos = np.swapaxes(training_videos, 1, 2)\n",
    "training_videos = np.swapaxes(training_videos, 2, 3)\n",
    "training_videos = np.swapaxes(training_videos, 3, 4)\n",
    "\n",
    "validation_videos = np.swapaxes(validation_videos, 1, 2)\n",
    "validation_videos = np.swapaxes(validation_videos, 2, 3)\n",
    "validation_videos = np.swapaxes(validation_videos, 3, 4)"
   ]
  },
  {
   "cell_type": "code",
   "execution_count": 22,
   "metadata": {},
   "outputs": [],
   "source": [
    "# Scale the data\n",
    "training_videos[:, :, :, :, 0] = (training_videos[:, :, :, :, 0] - np.min(training_videos[:, :, :, :, 0])) / (np.max(training_videos[:, :, :, :, 0]) - np.min(training_videos[:, :, :, :, 0]))\n",
    "training_videos[:, :, :, :, 1] = (training_videos[:, :, :, :, 1] - np.min(training_videos[:, :, :, :, 1])) / (np.max(training_videos[:, :, :, :, 1]) - np.min(training_videos[:, :, :, :, 1]))\n",
    "\n",
    "validation_videos[:, :, :, :, 0] = (validation_videos[:, :, :, :, 0] - np.min(validation_videos[:, :, :, :, 0])) / (np.max(validation_videos[:, :, :, :, 0]) - np.min(validation_videos[:, :, :, :, 0]))\n",
    "validation_videos[:, :, :, :, 1] = (validation_videos[:, :, :, :, 1] - np.min(validation_videos[:, :, :, :, 1])) / (np.max(validation_videos[:, :, :, :, 1]) - np.min(validation_videos[:, :, :, :, 1]))"
   ]
  },
  {
   "cell_type": "markdown",
   "metadata": {},
   "source": [
    "## 2. Model Definition\n",
    "\n",
    "Next, a CNN model architecture is defined."
   ]
  },
  {
   "cell_type": "code",
   "execution_count": 41,
   "metadata": {},
   "outputs": [],
   "source": [
    "def model_generator(input_shape=(28, 2, 61, 121), learning_rate=0.1):\n",
    "    \"\"\" This method generates a model definition. \"\"\"\n",
    "    model = Sequential()\n",
    "    \n",
    "    # First layer\n",
    "    model.add(Conv3D(16, (2, 2, 2), input_shape=input_shape))\n",
    "    model.add(Activation('relu'))\n",
    "    model.add(MaxPooling3D(pool_size=(2, 2, 2)))\n",
    "    \n",
    "    # Second layer\n",
    "    model.add(Conv3D(16, (2, 2, 2), input_shape=input_shape))\n",
    "    model.add(Activation('relu'))\n",
    "    model.add(MaxPooling3D(pool_size=(2, 2, 2)))\n",
    "    \n",
    "    # Third layer\n",
    "    #model.add(Conv3D(8, (2, 2, 2), input_shape=input_shape))\n",
    "    #model.add(Activation('relu'))\n",
    "    #model.add(MaxPooling3D(pool_size=(2, 2, 2)))\n",
    "    \n",
    "    # Final Layer\n",
    "    model.add(Flatten())\n",
    "    model.add(Dense(13))\n",
    "    model.add(Activation('relu'))\n",
    "    \n",
    "    # Setup training mechanism\n",
    "    model.compile(\n",
    "        loss=\"mean_squared_error\",\n",
    "        optimizer=Adam(learning_rate=learning_rate))\n",
    "    \n",
    "    return model"
   ]
  },
  {
   "cell_type": "markdown",
   "metadata": {},
   "source": [
    "## 3. Model Training\n",
    "\n",
    "Finally, training the model using the single framed data and opening a tensorboard instance with details."
   ]
  },
  {
   "cell_type": "code",
   "execution_count": 42,
   "metadata": {},
   "outputs": [],
   "source": [
    "def train_model(run_name, tensorboard, model, xdata, ydata, models_folder=\"./models/\"):\n",
    "    \"\"\" Trains the given model with the given dataset. \"\"\"\n",
    "    model.fit(\n",
    "        xdata,\n",
    "        ydata,\n",
    "        batch_size=2,\n",
    "        validation_split=0.2,\n",
    "        callbacks=[tensorboard],\n",
    "        epochs=50\n",
    "    )\n",
    "    save_model(model, models_folder + run_name + \".mdl\")"
   ]
  },
  {
   "cell_type": "code",
   "execution_count": 43,
   "metadata": {},
   "outputs": [],
   "source": [
    "# Flexible parameters\n",
    "learning_rate = 0.10"
   ]
  },
  {
   "cell_type": "code",
   "execution_count": 44,
   "metadata": {},
   "outputs": [],
   "source": [
    "run_name = \"early_fusion-three_layer-168f-222-lr_{}-{}\".format(learning_rate, int(time.time()))\n",
    "tb = TensorBoard(log_dir=\".\\\\logs\\\\{}\".format(run_name))"
   ]
  },
  {
   "cell_type": "code",
   "execution_count": 45,
   "metadata": {},
   "outputs": [],
   "source": [
    "model = model_generator(learning_rate=learning_rate, input_shape=training_videos.shape[1:])"
   ]
  },
  {
   "cell_type": "code",
   "execution_count": 46,
   "metadata": {
    "scrolled": true
   },
   "outputs": [
    {
     "name": "stdout",
     "output_type": "stream",
     "text": [
      "Train on 143 samples, validate on 36 samples\n",
      "Epoch 1/50\n",
      "143/143 [==============================] - 24s 167ms/sample - loss: 338851.0804 - val_loss: 11097.0639\n",
      "Epoch 2/50\n",
      "143/143 [==============================] - 23s 163ms/sample - loss: 9290.6660 - val_loss: 10698.7718\n",
      "Epoch 3/50\n",
      "143/143 [==============================] - 23s 162ms/sample - loss: 8935.8697 - val_loss: 10349.2374\n",
      "Epoch 4/50\n",
      "143/143 [==============================] - 23s 163ms/sample - loss: 8628.5524 - val_loss: 10040.5650\n",
      "Epoch 5/50\n",
      "143/143 [==============================] - 26s 179ms/sample - loss: 8364.9076 - val_loss: 9774.5086\n",
      "Epoch 6/50\n",
      "143/143 [==============================] - 23s 160ms/sample - loss: 8140.6434 - val_loss: 9556.6097\n",
      "Epoch 7/50\n",
      "143/143 [==============================] - 24s 168ms/sample - loss: 7950.3265 - val_loss: 9360.1264\n",
      "Epoch 8/50\n",
      "143/143 [==============================] - 24s 166ms/sample - loss: 7789.9171 - val_loss: 9201.4908\n",
      "Epoch 9/50\n",
      "143/143 [==============================] - 23s 160ms/sample - loss: 7656.6692 - val_loss: 9063.6392\n",
      "Epoch 10/50\n",
      "143/143 [==============================] - 23s 164ms/sample - loss: 7543.5981 - val_loss: 8945.9796\n",
      "Epoch 11/50\n",
      "143/143 [==============================] - 23s 161ms/sample - loss: 7448.8325 - val_loss: 8850.3429\n",
      "Epoch 12/50\n",
      "143/143 [==============================] - 24s 164ms/sample - loss: 7370.7686 - val_loss: 8763.4743\n",
      "Epoch 13/50\n",
      "143/143 [==============================] - 23s 162ms/sample - loss: 7303.8459 - val_loss: 8692.1866\n",
      "Epoch 14/50\n",
      "143/143 [==============================] - 23s 162ms/sample - loss: 7250.5436 - val_loss: 8634.6119\n",
      "Epoch 15/50\n",
      "143/143 [==============================] - 23s 162ms/sample - loss: 7205.0379 - val_loss: 8587.2198\n",
      "Epoch 16/50\n",
      "143/143 [==============================] - 24s 165ms/sample - loss: 7167.8516 - val_loss: 8544.4543\n",
      "Epoch 17/50\n",
      "143/143 [==============================] - 23s 163ms/sample - loss: 7137.4412 - val_loss: 8510.7015\n",
      "Epoch 18/50\n",
      "143/143 [==============================] - 23s 160ms/sample - loss: 7112.1036 - val_loss: 8476.7578\n",
      "Epoch 19/50\n",
      "143/143 [==============================] - 25s 175ms/sample - loss: 7090.8675 - val_loss: 8453.0851\n",
      "Epoch 20/50\n",
      "143/143 [==============================] - 24s 170ms/sample - loss: 7074.2415 - val_loss: 8432.5004\n",
      "Epoch 21/50\n",
      "143/143 [==============================] - 23s 158ms/sample - loss: 7060.5430 - val_loss: 8417.8967\n",
      "Epoch 22/50\n",
      "143/143 [==============================] - 23s 159ms/sample - loss: 7049.3020 - val_loss: 8403.3280\n",
      "Epoch 23/50\n",
      "143/143 [==============================] - 23s 162ms/sample - loss: 7040.5564 - val_loss: 8388.7439\n",
      "Epoch 24/50\n",
      "143/143 [==============================] - 23s 158ms/sample - loss: 7032.9478 - val_loss: 8379.8858\n",
      "Epoch 25/50\n",
      "143/143 [==============================] - 24s 165ms/sample - loss: 7027.3134 - val_loss: 8373.2895\n",
      "Epoch 26/50\n",
      "143/143 [==============================] - 27s 187ms/sample - loss: 7022.9254 - val_loss: 8365.6724\n",
      "Epoch 27/50\n",
      "143/143 [==============================] - 33s 229ms/sample - loss: 7019.0869 - val_loss: 8359.2892\n",
      "Epoch 28/50\n",
      "143/143 [==============================] - 36s 253ms/sample - loss: 7016.1637 - val_loss: 8355.7056\n",
      "Epoch 29/50\n",
      "143/143 [==============================] - 32s 226ms/sample - loss: 7014.1789 - val_loss: 8349.2580\n",
      "Epoch 30/50\n",
      "143/143 [==============================] - 24s 168ms/sample - loss: 7011.6308 - val_loss: 8347.6988\n",
      "Epoch 31/50\n",
      "143/143 [==============================] - 24s 167ms/sample - loss: 7010.7258 - val_loss: 8345.9188\n",
      "Epoch 32/50\n",
      "143/143 [==============================] - 23s 163ms/sample - loss: 7009.8197 - val_loss: 8344.1605\n",
      "Epoch 33/50\n",
      "143/143 [==============================] - 23s 163ms/sample - loss: 7009.0797 - val_loss: 8340.6352\n",
      "Epoch 34/50\n",
      "143/143 [==============================] - 25s 172ms/sample - loss: 7007.7708 - val_loss: 8339.3465\n",
      "Epoch 35/50\n",
      "143/143 [==============================] - 23s 163ms/sample - loss: 7007.4561 - val_loss: 8338.6913\n",
      "Epoch 36/50\n",
      "143/143 [==============================] - 23s 159ms/sample - loss: 7007.3546 - val_loss: 8337.4148\n",
      "Epoch 37/50\n",
      "143/143 [==============================] - 24s 170ms/sample - loss: 7006.2043 - val_loss: 8336.0684\n",
      "Epoch 38/50\n",
      "143/143 [==============================] - 24s 168ms/sample - loss: 7006.2433 - val_loss: 8334.8654\n",
      "Epoch 39/50\n",
      "143/143 [==============================] - 23s 160ms/sample - loss: 7006.1837 - val_loss: 8334.1143\n",
      "Epoch 40/50\n",
      "143/143 [==============================] - 23s 162ms/sample - loss: 7006.1981 - val_loss: 8334.4386\n",
      "Epoch 41/50\n",
      "143/143 [==============================] - 26s 180ms/sample - loss: 7006.1994 - val_loss: 8332.8497\n",
      "Epoch 42/50\n",
      "143/143 [==============================] - 25s 172ms/sample - loss: 7006.1030 - val_loss: 8333.7456\n",
      "Epoch 43/50\n",
      "143/143 [==============================] - 28s 195ms/sample - loss: 7006.0870 - val_loss: 8332.3661\n",
      "Epoch 44/50\n",
      "143/143 [==============================] - 23s 161ms/sample - loss: 7005.8745 - val_loss: 8332.8708\n",
      "Epoch 45/50\n",
      "143/143 [==============================] - 23s 163ms/sample - loss: 7006.4989 - val_loss: 8332.5802\n",
      "Epoch 46/50\n",
      "143/143 [==============================] - 25s 173ms/sample - loss: 7005.2957 - val_loss: 8332.4200\n",
      "Epoch 47/50\n",
      "143/143 [==============================] - 23s 159ms/sample - loss: 7005.6621 - val_loss: 8331.7796\n",
      "Epoch 48/50\n",
      "143/143 [==============================] - 21s 149ms/sample - loss: 7005.3448 - val_loss: 8332.3450\n",
      "Epoch 49/50\n",
      "143/143 [==============================] - 21s 148ms/sample - loss: 7005.2565 - val_loss: 8331.3726\n",
      "Epoch 50/50\n",
      "143/143 [==============================] - 21s 147ms/sample - loss: 7005.6926 - val_loss: 8331.3401\n"
     ]
    }
   ],
   "source": [
    "train_model(run_name, tb, model, training_videos, training_rainfall)"
   ]
  },
  {
   "cell_type": "code",
   "execution_count": null,
   "metadata": {},
   "outputs": [],
   "source": []
  }
 ],
 "metadata": {
  "kernelspec": {
   "display_name": "Python 3",
   "language": "python",
   "name": "python3"
  },
  "language_info": {
   "codemirror_mode": {
    "name": "ipython",
    "version": 3
   },
   "file_extension": ".py",
   "mimetype": "text/x-python",
   "name": "python",
   "nbconvert_exporter": "python",
   "pygments_lexer": "ipython3",
   "version": "3.7.6"
  }
 },
 "nbformat": 4,
 "nbformat_minor": 4
}
