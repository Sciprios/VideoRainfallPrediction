{
 "cells": [
  {
   "cell_type": "markdown",
   "metadata": {},
   "source": [
    "# Single Frame Model\n",
    "\n",
    "This script trains a single frame model based on an average image taken across the the forcasted month."
   ]
  },
  {
   "cell_type": "code",
   "execution_count": 72,
   "metadata": {
    "scrolled": true
   },
   "outputs": [],
   "source": [
    "import tensorflow as tf\n",
    "from tensorflow.keras.models import Sequential, save_model\n",
    "from tensorflow.keras.layers import Dense, Dropout, Activation, Flatten, Conv2D, Conv3D, MaxPooling2D, MaxPooling3D\n",
    "from tensorflow.keras.callbacks import TensorBoard\n",
    "from tensorflow.keras.optimizers import Adam\n",
    "import time\n",
    "import numpy as np"
   ]
  },
  {
   "cell_type": "markdown",
   "metadata": {},
   "source": [
    "## 1. Load Data\n",
    "\n",
    "To begin, data for a single frame mnodel must be loaded along with the expected regional rainfall values."
   ]
  },
  {
   "cell_type": "code",
   "execution_count": 25,
   "metadata": {},
   "outputs": [],
   "source": [
    "training_datafile = \"E:/31-12-2020/prepared-data/single_train.npy\"\n",
    "validation_datafile = \"E:/31-12-2020/prepared-data/single_valid.npy\"\n",
    "\n",
    "training_rainfallfile = \"E:/31-12-2020/prepared-data/expected_train.npy\"\n",
    "validation_rainfallfile = \"E:/31-12-2020/prepared-data/expected_valid.npy\""
   ]
  },
  {
   "cell_type": "code",
   "execution_count": 26,
   "metadata": {},
   "outputs": [],
   "source": [
    "training_videos = np.load(training_datafile)\n",
    "validation_videos = np.load(validation_datafile)\n",
    "\n",
    "training_rainfall = np.load(training_rainfallfile)[:, 2:]\n",
    "validation_rainfall = np.load(validation_rainfallfile)[:, 2:]"
   ]
  },
  {
   "cell_type": "code",
   "execution_count": 27,
   "metadata": {},
   "outputs": [],
   "source": [
    "# We need them in X, Y, COLOURS\n",
    "training_videos = np.swapaxes(training_videos, 1, 2)\n",
    "training_videos = np.swapaxes(training_videos, 2, 3)\n",
    "\n",
    "validation_videos = np.swapaxes(validation_videos, 1, 2)\n",
    "validation_videos = np.swapaxes(validation_videos, 2, 3)"
   ]
  },
  {
   "cell_type": "code",
   "execution_count": 28,
   "metadata": {},
   "outputs": [],
   "source": [
    "# Scale the data\n",
    "training_videos[:, :, :, 0] = (training_videos[:, :, :, 0] - np.min(training_videos[:, :, :, 0])) / (np.max(training_videos[:, :, :, 0]) - np.min(training_videos[:, :, :, 0]))\n",
    "training_videos[:, :, :, 1] = (training_videos[:, :, :, 1] - np.min(training_videos[:, :, :, 1])) / (np.max(training_videos[:, :, :, 1]) - np.min(training_videos[:, :, :, 1]))\n",
    "\n",
    "validation_videos[:, :, :, 0] = (validation_videos[:, :, :, 0] - np.min(validation_videos[:, :, :, 0])) / (np.max(validation_videos[:, :, :, 0]) - np.min(validation_videos[:, :, :, 0]))\n",
    "validation_videos[:, :, :, 1] = (validation_videos[:, :, :, 1] - np.min(validation_videos[:, :, :, 1])) / (np.max(validation_videos[:, :, :, 1]) - np.min(validation_videos[:, :, :, 1]))"
   ]
  },
  {
   "cell_type": "markdown",
   "metadata": {},
   "source": [
    "## 2. Model Definition\n",
    "\n",
    "Next, a CNN model architecture is defined."
   ]
  },
  {
   "cell_type": "code",
   "execution_count": 153,
   "metadata": {},
   "outputs": [],
   "source": [
    "def model_generator(input_shape=(2, 61, 121), learning_rate=0.1):\n",
    "    \"\"\" This method generates a model definition. \"\"\"\n",
    "    model = Sequential()\n",
    "    \n",
    "    # First layer\n",
    "    model.add(Conv2D(8, (2, 2), input_shape=input_shape))\n",
    "    model.add(Activation('relu'))\n",
    "    model.add(MaxPooling2D(pool_size=(2, 2)))\n",
    "    \n",
    "    # Second layer\n",
    "    model.add(Conv2D(8, (2, 2), input_shape=input_shape))\n",
    "    model.add(Activation('relu'))\n",
    "    model.add(MaxPooling2D(pool_size=(2, 2)))\n",
    "    \n",
    "    # Third layer\n",
    "    model.add(Conv2D(8, (2, 2), input_shape=input_shape))\n",
    "    model.add(Activation('relu'))\n",
    "    model.add(MaxPooling2D(pool_size=(2, 2)))\n",
    "    \n",
    "    # Final Layer\n",
    "    model.add(Flatten())\n",
    "    model.add(Dense(13))\n",
    "    model.add(Activation('relu'))\n",
    "    \n",
    "    # Setup training mechanism\n",
    "    model.compile(\n",
    "        loss=\"mean_squared_error\",\n",
    "        optimizer=Adam(learning_rate=learning_rate))\n",
    "    \n",
    "    return model"
   ]
  },
  {
   "cell_type": "markdown",
   "metadata": {},
   "source": [
    "## 3. Model Training\n",
    "\n",
    "Finally, training the model using the single framed data and opening a tensorboard instance with details."
   ]
  },
  {
   "cell_type": "code",
   "execution_count": 154,
   "metadata": {},
   "outputs": [],
   "source": [
    "def train_model(run_name, tensorboard, model, xdata, ydata, models_folder=\"./models/\"):\n",
    "    \"\"\" Trains the given model with the given dataset. \"\"\"\n",
    "    model.fit(\n",
    "        xdata,\n",
    "        ydata,\n",
    "        batch_size=2,\n",
    "        validation_split=0.2,\n",
    "        callbacks=[tensorboard],\n",
    "        epochs=50\n",
    "    )\n",
    "    save_model(model, models_folder + run_name + \".mdl\")"
   ]
  },
  {
   "cell_type": "code",
   "execution_count": 155,
   "metadata": {},
   "outputs": [],
   "source": [
    "# Flexible parameters\n",
    "learning_rate = 0.10"
   ]
  },
  {
   "cell_type": "code",
   "execution_count": 156,
   "metadata": {},
   "outputs": [],
   "source": [
    "run_name = \"single_frame-three_layer-16f[all]-33-lr_{}-{}\".format(learning_rate, int(time.time()))\n",
    "tb = TensorBoard(log_dir=\".\\\\logs\\\\{}\".format(run_name))"
   ]
  },
  {
   "cell_type": "code",
   "execution_count": 157,
   "metadata": {},
   "outputs": [],
   "source": [
    "model = model_generator(learning_rate=learning_rate, input_shape=training_videos.shape[1:])"
   ]
  },
  {
   "cell_type": "code",
   "execution_count": 158,
   "metadata": {},
   "outputs": [
    {
     "name": "stdout",
     "output_type": "stream",
     "text": [
      "Train on 143 samples, validate on 36 samples\n",
      "Epoch 1/50\n",
      "143/143 [==============================] - 2s 16ms/sample - loss: 6548.3580 - val_loss: 5731.8086\n",
      "Epoch 2/50\n",
      "143/143 [==============================] - 1s 8ms/sample - loss: 9883.0502 - val_loss: 10419.9621\n",
      "Epoch 3/50\n",
      "143/143 [==============================] - 1s 6ms/sample - loss: 7907.3847 - val_loss: 8161.9759\n",
      "Epoch 4/50\n",
      "143/143 [==============================] - 1s 6ms/sample - loss: 5325.7371 - val_loss: 5365.1613\n",
      "Epoch 5/50\n",
      "143/143 [==============================] - 1s 7ms/sample - loss: 4462.7180 - val_loss: 5202.9410\n",
      "Epoch 6/50\n",
      "143/143 [==============================] - 1s 7ms/sample - loss: 4419.0619 - val_loss: 5171.2720\n",
      "Epoch 7/50\n",
      "143/143 [==============================] - 1s 7ms/sample - loss: 4415.2220 - val_loss: 5198.7133\n",
      "Epoch 8/50\n",
      "143/143 [==============================] - 1s 8ms/sample - loss: 4441.1915 - val_loss: 5177.5899\n",
      "Epoch 9/50\n",
      "143/143 [==============================] - 1s 6ms/sample - loss: 4419.6842 - val_loss: 5163.9476\n",
      "Epoch 10/50\n",
      "143/143 [==============================] - 1s 5ms/sample - loss: 4414.3717 - val_loss: 5226.8494\n",
      "Epoch 11/50\n",
      "143/143 [==============================] - 1s 4ms/sample - loss: 4410.5199 - val_loss: 5151.0130\n",
      "Epoch 12/50\n",
      "143/143 [==============================] - 1s 4ms/sample - loss: 4406.9330 - val_loss: 5157.8744\n",
      "Epoch 13/50\n",
      "143/143 [==============================] - 1s 4ms/sample - loss: 4414.0342 - val_loss: 5154.2586\n",
      "Epoch 14/50\n",
      "143/143 [==============================] - 1s 4ms/sample - loss: 4428.1130 - val_loss: 5153.5859\n",
      "Epoch 15/50\n",
      "143/143 [==============================] - 1s 4ms/sample - loss: 4405.7808 - val_loss: 5206.1013\n",
      "Epoch 16/50\n",
      "143/143 [==============================] - 1s 4ms/sample - loss: 4427.1275 - val_loss: 5239.2517\n",
      "Epoch 17/50\n",
      "143/143 [==============================] - 1s 4ms/sample - loss: 4414.7070 - val_loss: 5315.0830\n",
      "Epoch 18/50\n",
      "143/143 [==============================] - 1s 4ms/sample - loss: 4427.6500 - val_loss: 5214.2983\n",
      "Epoch 19/50\n",
      "143/143 [==============================] - 1s 4ms/sample - loss: 4403.8546 - val_loss: 5150.3822\n",
      "Epoch 20/50\n",
      "143/143 [==============================] - 1s 4ms/sample - loss: 4437.5369 - val_loss: 5166.3906\n",
      "Epoch 21/50\n",
      "143/143 [==============================] - 1s 4ms/sample - loss: 4435.3623 - val_loss: 5166.4605\n",
      "Epoch 22/50\n",
      "143/143 [==============================] - 1s 4ms/sample - loss: 4439.0718 - val_loss: 5177.0256\n",
      "Epoch 23/50\n",
      "143/143 [==============================] - 1s 4ms/sample - loss: 4451.3979 - val_loss: 5261.5458\n",
      "Epoch 24/50\n",
      "143/143 [==============================] - 1s 4ms/sample - loss: 4436.1968 - val_loss: 5207.2155\n",
      "Epoch 25/50\n",
      "143/143 [==============================] - 1s 4ms/sample - loss: 4453.6274 - val_loss: 5341.1250\n",
      "Epoch 26/50\n",
      "143/143 [==============================] - 1s 4ms/sample - loss: 4450.3383 - val_loss: 5149.7809\n",
      "Epoch 27/50\n",
      "143/143 [==============================] - 1s 4ms/sample - loss: 4422.7798 - val_loss: 5140.9037\n",
      "Epoch 28/50\n",
      "143/143 [==============================] - 1s 4ms/sample - loss: 4437.8211 - val_loss: 5145.5390\n",
      "Epoch 29/50\n",
      "143/143 [==============================] - 1s 4ms/sample - loss: 4426.7955 - val_loss: 5172.4625\n",
      "Epoch 30/50\n",
      "143/143 [==============================] - 1s 4ms/sample - loss: 4404.0889 - val_loss: 5277.9923\n",
      "Epoch 31/50\n",
      "143/143 [==============================] - 1s 4ms/sample - loss: 4462.1153 - val_loss: 5152.3935\n",
      "Epoch 32/50\n",
      "143/143 [==============================] - 1s 4ms/sample - loss: 4436.2732 - val_loss: 5211.9264\n",
      "Epoch 33/50\n",
      "143/143 [==============================] - 1s 4ms/sample - loss: 4429.8566 - val_loss: 5158.7454\n",
      "Epoch 34/50\n",
      "143/143 [==============================] - 1s 4ms/sample - loss: 4429.9020 - val_loss: 5142.6766\n",
      "Epoch 35/50\n",
      "143/143 [==============================] - 1s 4ms/sample - loss: 4445.5797 - val_loss: 5186.9704\n",
      "Epoch 36/50\n",
      "143/143 [==============================] - 1s 4ms/sample - loss: 4441.8247 - val_loss: 5160.2452\n",
      "Epoch 37/50\n",
      "143/143 [==============================] - 1s 5ms/sample - loss: 4421.5404 - val_loss: 5174.3187\n",
      "Epoch 38/50\n",
      "143/143 [==============================] - 1s 4ms/sample - loss: 4416.4525 - val_loss: 5275.4849\n",
      "Epoch 39/50\n",
      "143/143 [==============================] - 1s 4ms/sample - loss: 4423.0083 - val_loss: 5150.2865\n",
      "Epoch 40/50\n",
      "143/143 [==============================] - 1s 4ms/sample - loss: 4428.6889 - val_loss: 5190.8934\n",
      "Epoch 41/50\n",
      "143/143 [==============================] - 1s 4ms/sample - loss: 4436.3882 - val_loss: 5161.0005\n",
      "Epoch 42/50\n",
      "143/143 [==============================] - 1s 4ms/sample - loss: 4428.8313 - val_loss: 5201.8505\n",
      "Epoch 43/50\n",
      "143/143 [==============================] - 1s 6ms/sample - loss: 4419.6041 - val_loss: 5145.7719\n",
      "Epoch 44/50\n",
      "143/143 [==============================] - 1s 4ms/sample - loss: 4427.9312 - val_loss: 5165.5787\n",
      "Epoch 45/50\n",
      "143/143 [==============================] - 1s 4ms/sample - loss: 4421.6737 - val_loss: 5155.4403\n",
      "Epoch 46/50\n",
      "143/143 [==============================] - 1s 4ms/sample - loss: 4464.1558 - val_loss: 5146.5750\n",
      "Epoch 47/50\n",
      "143/143 [==============================] - 1s 4ms/sample - loss: 4445.0252 - val_loss: 5303.5822\n",
      "Epoch 48/50\n",
      "143/143 [==============================] - 1s 4ms/sample - loss: 4413.0679 - val_loss: 5177.4945\n",
      "Epoch 49/50\n",
      "143/143 [==============================] - 1s 4ms/sample - loss: 4428.2962 - val_loss: 5238.9254\n",
      "Epoch 50/50\n",
      "143/143 [==============================] - 1s 4ms/sample - loss: 4420.6199 - val_loss: 5202.1544\n"
     ]
    }
   ],
   "source": [
    "train_model(run_name, tb, model, training_videos, training_rainfall)"
   ]
  },
  {
   "cell_type": "code",
   "execution_count": null,
   "metadata": {},
   "outputs": [],
   "source": []
  },
  {
   "cell_type": "code",
   "execution_count": null,
   "metadata": {},
   "outputs": [],
   "source": []
  }
 ],
 "metadata": {
  "kernelspec": {
   "display_name": "Python 3",
   "language": "python",
   "name": "python3"
  },
  "language_info": {
   "codemirror_mode": {
    "name": "ipython",
    "version": 3
   },
   "file_extension": ".py",
   "mimetype": "text/x-python",
   "name": "python",
   "nbconvert_exporter": "python",
   "pygments_lexer": "ipython3",
   "version": "3.7.6"
  }
 },
 "nbformat": 4,
 "nbformat_minor": 4
}
