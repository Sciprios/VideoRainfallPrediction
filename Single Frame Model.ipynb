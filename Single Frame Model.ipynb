{
 "cells": [
  {
   "cell_type": "markdown",
   "metadata": {},
   "source": [
    "# Single Frame Model\n",
    "\n",
    "This script trains a single frame model based on an average image taken across the the forcasted month."
   ]
  },
  {
   "cell_type": "code",
   "execution_count": 72,
   "metadata": {
    "scrolled": true
   },
   "outputs": [],
   "source": [
    "import tensorflow as tf\n",
    "from tensorflow.keras.models import Sequential, save_model\n",
    "from tensorflow.keras.layers import Dense, Dropout, Activation, Flatten, Conv2D, Conv3D, MaxPooling2D, MaxPooling3D\n",
    "from tensorflow.keras.callbacks import TensorBoard\n",
    "from tensorflow.keras.optimizers import Adam\n",
    "import time\n",
    "import numpy as np"
   ]
  },
  {
   "cell_type": "markdown",
   "metadata": {},
   "source": [
    "## 1. Load Data\n",
    "\n",
    "To begin, data for a single frame mnodel must be loaded along with the expected regional rainfall values."
   ]
  },
  {
   "cell_type": "code",
   "execution_count": 25,
   "metadata": {},
   "outputs": [],
   "source": [
    "training_datafile = \"E:/31-12-2020/prepared-data/single_train.npy\"\n",
    "validation_datafile = \"E:/31-12-2020/prepared-data/single_valid.npy\"\n",
    "\n",
    "training_rainfallfile = \"E:/31-12-2020/prepared-data/expected_train.npy\"\n",
    "validation_rainfallfile = \"E:/31-12-2020/prepared-data/expected_valid.npy\""
   ]
  },
  {
   "cell_type": "code",
   "execution_count": 26,
   "metadata": {},
   "outputs": [],
   "source": [
    "training_videos = np.load(training_datafile)\n",
    "validation_videos = np.load(validation_datafile)\n",
    "\n",
    "training_rainfall = np.load(training_rainfallfile)[:, 2:]\n",
    "validation_rainfall = np.load(validation_rainfallfile)[:, 2:]"
   ]
  },
  {
   "cell_type": "code",
   "execution_count": 27,
   "metadata": {},
   "outputs": [],
   "source": [
    "# We need them in X, Y, COLOURS\n",
    "training_videos = np.swapaxes(training_videos, 1, 2)\n",
    "training_videos = np.swapaxes(training_videos, 2, 3)\n",
    "\n",
    "validation_videos = np.swapaxes(validation_videos, 1, 2)\n",
    "validation_videos = np.swapaxes(validation_videos, 2, 3)"
   ]
  },
  {
   "cell_type": "code",
   "execution_count": 28,
   "metadata": {},
   "outputs": [],
   "source": [
    "# Scale the data\n",
    "training_videos[:, :, :, 0] = (training_videos[:, :, :, 0] - np.min(training_videos[:, :, :, 0])) / (np.max(training_videos[:, :, :, 0]) - np.min(training_videos[:, :, :, 0]))\n",
    "training_videos[:, :, :, 1] = (training_videos[:, :, :, 1] - np.min(training_videos[:, :, :, 1])) / (np.max(training_videos[:, :, :, 1]) - np.min(training_videos[:, :, :, 1]))\n",
    "\n",
    "validation_videos[:, :, :, 0] = (validation_videos[:, :, :, 0] - np.min(validation_videos[:, :, :, 0])) / (np.max(validation_videos[:, :, :, 0]) - np.min(validation_videos[:, :, :, 0]))\n",
    "validation_videos[:, :, :, 1] = (validation_videos[:, :, :, 1] - np.min(validation_videos[:, :, :, 1])) / (np.max(validation_videos[:, :, :, 1]) - np.min(validation_videos[:, :, :, 1]))"
   ]
  },
  {
   "cell_type": "markdown",
   "metadata": {},
   "source": [
    "## 2. Model Definition\n",
    "\n",
    "Next, a CNN model architecture is defined."
   ]
  },
  {
   "cell_type": "code",
   "execution_count": 111,
   "metadata": {},
   "outputs": [],
   "source": [
    "def model_generator(input_shape=(2, 61, 121), learning_rate=0.1):\n",
    "    \"\"\" This method generates a model definition. \"\"\"\n",
    "    model = Sequential()\n",
    "    \n",
    "    # First layer\n",
    "    model.add(Conv2D(16, (2, 2), input_shape=input_shape))\n",
    "    model.add(Activation('relu'))\n",
    "    model.add(MaxPooling2D(pool_size=(2, 2)))\n",
    "    \n",
    "    ## Second layer\n",
    "    #model.add(Conv2D(16, (2, 2), input_shape=input_shape))\n",
    "    #model.add(Activation('relu'))\n",
    "    #model.add(MaxPooling2D(pool_size=(2, 2)))\n",
    "    \n",
    "    ## Third layer\n",
    "    #model.add(Conv2D(8, (2, 2), input_shape=input_shape))\n",
    "    #model.add(Activation('relu'))\n",
    "    #model.add(MaxPooling2D(pool_size=(2, 2)))\n",
    "    \n",
    "    # Final Layer\n",
    "    model.add(Flatten())\n",
    "    model.add(Dense(13))\n",
    "    model.add(Activation('relu'))\n",
    "    \n",
    "    # Setup training mechanism\n",
    "    model.compile(\n",
    "        loss=\"mean_squared_error\",\n",
    "        optimizer=Adam(learning_rate=learning_rate))\n",
    "    \n",
    "    return model"
   ]
  },
  {
   "cell_type": "markdown",
   "metadata": {},
   "source": [
    "## 3. Model Training\n",
    "\n",
    "Finally, training the model using the single framed data and opening a tensorboard instance with details."
   ]
  },
  {
   "cell_type": "code",
   "execution_count": 112,
   "metadata": {},
   "outputs": [],
   "source": [
    "def train_model(run_name, tensorboard, model, xdata, ydata, models_folder=\"./models/\"):\n",
    "    \"\"\" Trains the given model with the given dataset. \"\"\"\n",
    "    model.fit(\n",
    "        xdata,\n",
    "        ydata,\n",
    "        batch_size=2,\n",
    "        validation_split=0.2,\n",
    "        callbacks=[tensorboard],\n",
    "        epochs=50\n",
    "    )\n",
    "    save_model(model, models_folder + run_name + \".mdl\")"
   ]
  },
  {
   "cell_type": "code",
   "execution_count": 113,
   "metadata": {},
   "outputs": [],
   "source": [
    "# Flexible parameters\n",
    "learning_rate = 0.10"
   ]
  },
  {
   "cell_type": "code",
   "execution_count": 114,
   "metadata": {},
   "outputs": [],
   "source": [
    "run_name = \"single_frame-one_layer-lr_{}-{}\".format(learning_rate, int(time.time()))\n",
    "tb = TensorBoard(log_dir=\".\\\\logs\\\\{}\".format(run_name))"
   ]
  },
  {
   "cell_type": "code",
   "execution_count": 115,
   "metadata": {},
   "outputs": [],
   "source": [
    "model = model_generator(learning_rate=learning_rate, input_shape=training_videos.shape[1:])"
   ]
  },
  {
   "cell_type": "code",
   "execution_count": null,
   "metadata": {},
   "outputs": [
    {
     "name": "stdout",
     "output_type": "stream",
     "text": [
      "Train on 143 samples, validate on 36 samples\n",
      "Epoch 1/50\n",
      "143/143 [==============================] - 2s 11ms/sample - loss: 14438.3003 - val_loss: 11153.4401\n",
      "Epoch 2/50\n",
      "143/143 [==============================] - 1s 7ms/sample - loss: 9380.0616 - val_loss: 10817.5255\n",
      "Epoch 3/50\n",
      "143/143 [==============================] - 1s 5ms/sample - loss: 9087.2428 - val_loss: 10521.0301\n",
      "Epoch 4/50\n",
      "143/143 [==============================] - 1s 6ms/sample - loss: 8829.6857 - val_loss: 10263.6337\n",
      "Epoch 5/50\n",
      "143/143 [==============================] - 1s 6ms/sample - loss: 8603.8420 - val_loss: 10028.2010\n",
      "Epoch 6/50\n",
      "143/143 [==============================] - 1s 5ms/sample - loss: 8408.2816 - val_loss: 9826.4771\n",
      "Epoch 7/50\n",
      "143/143 [==============================] - 1s 4ms/sample - loss: 8238.2187 - val_loss: 9653.1599\n",
      "Epoch 8/50\n",
      "143/143 [==============================] - 1s 4ms/sample - loss: 8092.3314 - val_loss: 9496.9363\n",
      "Epoch 9/50\n",
      "143/143 [==============================] - 1s 4ms/sample - loss: 7963.6288 - val_loss: 9363.8568\n",
      "Epoch 10/50\n",
      "143/143 [==============================] - 1s 4ms/sample - loss: 7853.2136 - val_loss: 9246.3619\n",
      "Epoch 11/50\n",
      "143/143 [==============================] - 1s 4ms/sample - loss: 7758.4819 - val_loss: 9144.0564\n",
      "Epoch 12/50\n",
      "143/143 [==============================] - 1s 5ms/sample - loss: 7677.7041 - val_loss: 9057.4187\n",
      "Epoch 13/50\n",
      "143/143 [==============================] - 1s 4ms/sample - loss: 7608.5973 - val_loss: 8983.6491\n",
      "Epoch 14/50\n",
      "143/143 [==============================] - 1s 4ms/sample - loss: 7549.3762 - val_loss: 8916.3386\n",
      "Epoch 15/50\n",
      "143/143 [==============================] - 1s 4ms/sample - loss: 7499.2978 - val_loss: 8861.3371\n",
      "Epoch 16/50\n",
      "143/143 [==============================] - 1s 4ms/sample - loss: 7456.4595 - val_loss: 8814.2300\n",
      "Epoch 17/50\n",
      "143/143 [==============================] - 1s 4ms/sample - loss: 7419.7584 - val_loss: 8774.5604\n",
      "Epoch 18/50\n",
      "143/143 [==============================] - 1s 4ms/sample - loss: 7389.6233 - val_loss: 8735.7580\n",
      "Epoch 19/50\n",
      "143/143 [==============================] - 1s 4ms/sample - loss: 7363.1759 - val_loss: 8708.5334\n",
      "Epoch 20/50\n",
      "143/143 [==============================] - 1s 4ms/sample - loss: 7342.1577 - val_loss: 8682.1454\n",
      "Epoch 21/50\n",
      "143/143 [==============================] - 1s 4ms/sample - loss: 7323.6475 - val_loss: 8661.4594\n",
      "Epoch 22/50\n",
      "143/143 [==============================] - 1s 4ms/sample - loss: 7308.5188 - val_loss: 8643.0683\n",
      "Epoch 23/50\n",
      "143/143 [==============================] - 1s 4ms/sample - loss: 7295.9573 - val_loss: 8627.1705\n",
      "Epoch 24/50\n",
      "143/143 [==============================] - 1s 4ms/sample - loss: 7284.7237 - val_loss: 8614.5046\n",
      "Epoch 25/50\n",
      "143/143 [==============================] - 1s 4ms/sample - loss: 7276.0570 - val_loss: 8603.0109\n",
      "Epoch 26/50\n",
      "143/143 [==============================] - 1s 4ms/sample - loss: 7268.8605 - val_loss: 8594.1413\n",
      "Epoch 27/50\n",
      "143/143 [==============================] - 1s 4ms/sample - loss: 7262.6700 - val_loss: 8586.9240\n",
      "Epoch 28/50\n",
      " 82/143 [================>.............] - ETA: 0s - loss: 8184.6702"
     ]
    }
   ],
   "source": [
    "train_model(run_name, tb, model, training_videos, training_rainfall)"
   ]
  },
  {
   "cell_type": "code",
   "execution_count": null,
   "metadata": {},
   "outputs": [],
   "source": []
  },
  {
   "cell_type": "code",
   "execution_count": null,
   "metadata": {},
   "outputs": [],
   "source": []
  }
 ],
 "metadata": {
  "kernelspec": {
   "display_name": "Python 3",
   "language": "python",
   "name": "python3"
  },
  "language_info": {
   "codemirror_mode": {
    "name": "ipython",
    "version": 3
   },
   "file_extension": ".py",
   "mimetype": "text/x-python",
   "name": "python",
   "nbconvert_exporter": "python",
   "pygments_lexer": "ipython3",
   "version": "3.7.6"
  }
 },
 "nbformat": 4,
 "nbformat_minor": 4
}
