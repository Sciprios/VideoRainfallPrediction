{
 "cells": [
  {
   "cell_type": "markdown",
   "metadata": {},
   "source": [
    "# Single Frame Model\n",
    "\n",
    "This script trains a single frame model based on an average image taken across the the forcasted month."
   ]
  },
  {
   "cell_type": "code",
   "execution_count": 6,
   "metadata": {
    "scrolled": true
   },
   "outputs": [],
   "source": [
    "import tensorflow as tf\n",
    "from tensorflow.keras.models import Sequential, save_model\n",
    "from tensorflow.keras.layers import Dense, Dropout, Activation, Flatten, Conv2D, Conv3D, MaxPooling2D, MaxPooling3D\n",
    "from tensorflow.keras.callbacks import TensorBoard\n",
    "from tensorflow.keras.optimizers import Adam\n",
    "import time\n",
    "import numpy as np"
   ]
  },
  {
   "cell_type": "markdown",
   "metadata": {},
   "source": [
    "## 1. Load Data\n",
    "\n",
    "To begin, data for a single frame mnodel must be loaded along with the expected regional rainfall values."
   ]
  },
  {
   "cell_type": "code",
   "execution_count": 2,
   "metadata": {},
   "outputs": [],
   "source": [
    "training_datafile = \"E:/31-12-2020/prepared-data/single_train.npy\"\n",
    "validation_datafile = \"E:/31-12-2020/prepared-data/single_valid.npy\"\n",
    "\n",
    "training_rainfallfile = \"E:/31-12-2020/prepared-data/expected_train.npy\"\n",
    "validation_rainfallfile = \"E:/31-12-2020/prepared-data/expected_valid.npy\""
   ]
  },
  {
   "cell_type": "code",
   "execution_count": 3,
   "metadata": {},
   "outputs": [],
   "source": [
    "training_videos = np.load(training_datafile)\n",
    "validation_videos = np.load(validation_datafile)\n",
    "\n",
    "training_rainfall = np.load(training_rainfallfile)[:, 2:]\n",
    "validation_rainfall = np.load(validation_rainfallfile)[:, 2:]"
   ]
  },
  {
   "cell_type": "code",
   "execution_count": 4,
   "metadata": {},
   "outputs": [],
   "source": [
    "# We need them in X, Y, COLOURS\n",
    "training_videos = np.swapaxes(training_videos, 1, 2)\n",
    "training_videos = np.swapaxes(training_videos, 2, 3)\n",
    "\n",
    "validation_videos = np.swapaxes(validation_videos, 1, 2)\n",
    "validation_videos = np.swapaxes(validation_videos, 2, 3)"
   ]
  },
  {
   "cell_type": "code",
   "execution_count": 5,
   "metadata": {},
   "outputs": [],
   "source": [
    "# Scale the data\n",
    "training_videos[:, :, :, 0] = (training_videos[:, :, :, 0] - np.min(training_videos[:, :, :, 0])) / (np.max(training_videos[:, :, :, 0]) - np.min(training_videos[:, :, :, 0]))\n",
    "training_videos[:, :, :, 1] = (training_videos[:, :, :, 1] - np.min(training_videos[:, :, :, 1])) / (np.max(training_videos[:, :, :, 1]) - np.min(training_videos[:, :, :, 1]))\n",
    "\n",
    "validation_videos[:, :, :, 0] = (validation_videos[:, :, :, 0] - np.min(validation_videos[:, :, :, 0])) / (np.max(validation_videos[:, :, :, 0]) - np.min(validation_videos[:, :, :, 0]))\n",
    "validation_videos[:, :, :, 1] = (validation_videos[:, :, :, 1] - np.min(validation_videos[:, :, :, 1])) / (np.max(validation_videos[:, :, :, 1]) - np.min(validation_videos[:, :, :, 1]))"
   ]
  },
  {
   "cell_type": "markdown",
   "metadata": {},
   "source": [
    "## 2. Model Definition\n",
    "\n",
    "Next, a CNN model architecture is defined."
   ]
  },
  {
   "cell_type": "code",
   "execution_count": 14,
   "metadata": {},
   "outputs": [],
   "source": [
    "def model_generator(input_shape=(2, 61, 121), learning_rate=0.1):\n",
    "    \"\"\" This method generates a model definition. \"\"\"\n",
    "    model = Sequential()\n",
    "    \n",
    "    # First layer\n",
    "    model.add(Conv2D(16, (2, 2), input_shape=input_shape))\n",
    "    model.add(Activation('relu'))\n",
    "    model.add(MaxPooling2D(pool_size=(2, 2)))\n",
    "    \n",
    "    # Second layer\n",
    "    model.add(Conv2D(16, (2, 2), input_shape=input_shape))\n",
    "    model.add(Activation('relu'))\n",
    "    model.add(MaxPooling2D(pool_size=(2, 2)))\n",
    "    \n",
    "    # Third layer\n",
    "    model.add(Conv2D(8, (2, 2), input_shape=input_shape))\n",
    "    model.add(Activation('relu'))\n",
    "    model.add(MaxPooling2D(pool_size=(2, 2)))\n",
    "    \n",
    "    # Final Layer\n",
    "    model.add(Flatten())\n",
    "    model.add(Dense(13))\n",
    "    model.add(Activation('relu'))\n",
    "    \n",
    "    # Final, final layer\n",
    "    model.add(Dense(13))\n",
    "    model.add(Activation('relu'))\n",
    "    \n",
    "    # Setup training mechanism\n",
    "    model.compile(\n",
    "        loss=\"mean_squared_error\",\n",
    "        optimizer=Adam(learning_rate=learning_rate))\n",
    "    \n",
    "    return model"
   ]
  },
  {
   "cell_type": "markdown",
   "metadata": {},
   "source": [
    "## 3. Model Training\n",
    "\n",
    "Finally, training the model using the single framed data and opening a tensorboard instance with details."
   ]
  },
  {
   "cell_type": "code",
   "execution_count": 20,
   "metadata": {},
   "outputs": [],
   "source": [
    "def train_model(run_name, tensorboard, model, xdata, ydata, models_folder=\"./models/\"):\n",
    "    \"\"\" Trains the given model with the given dataset. \"\"\"\n",
    "    model.fit(\n",
    "        xdata,\n",
    "        ydata,\n",
    "        batch_size=2,\n",
    "        validation_split=0.2,\n",
    "        callbacks=[tensorboard],\n",
    "        epochs=50\n",
    "    )\n",
    "    save_model(model, models_folder + run_name + \".mdl\")"
   ]
  },
  {
   "cell_type": "code",
   "execution_count": 21,
   "metadata": {},
   "outputs": [],
   "source": [
    "# Flexible parameters\n",
    "learning_rate = 0.10"
   ]
  },
  {
   "cell_type": "code",
   "execution_count": 22,
   "metadata": {},
   "outputs": [],
   "source": [
    "run_name = \"single_frame-three_layer-16168f-22-lr_{}-{}\".format(learning_rate, int(time.time()))\n",
    "tb = TensorBoard(log_dir=\".\\\\logs\\\\{}\".format(run_name))"
   ]
  },
  {
   "cell_type": "code",
   "execution_count": 23,
   "metadata": {},
   "outputs": [],
   "source": [
    "model = model_generator(learning_rate=learning_rate, input_shape=training_videos.shape[1:])"
   ]
  },
  {
   "cell_type": "code",
   "execution_count": null,
   "metadata": {
    "scrolled": true
   },
   "outputs": [
    {
     "name": "stdout",
     "output_type": "stream",
     "text": [
      "Train on 143 samples, validate on 36 samples\n",
      "Epoch 1/50\n",
      "143/143 [==============================] - 2s 13ms/sample - loss: 7098.2793 - val_loss: 7897.7477\n",
      "Epoch 2/50\n",
      "143/143 [==============================] - 1s 8ms/sample - loss: 6161.1172 - val_loss: 7393.4823\n",
      "Epoch 3/50\n",
      "143/143 [==============================] - 1s 7ms/sample - loss: 6099.3965 - val_loss: 7146.9654\n",
      "Epoch 4/50\n",
      "143/143 [==============================] - 1s 7ms/sample - loss: 6118.6578 - val_loss: 7082.7945\n",
      "Epoch 5/50\n",
      "143/143 [==============================] - 1s 7ms/sample - loss: 6043.3485 - val_loss: 6962.3356\n",
      "Epoch 6/50\n",
      "143/143 [==============================] - 1s 9ms/sample - loss: 6086.0312 - val_loss: 7087.3474\n",
      "Epoch 7/50\n",
      "143/143 [==============================] - 1s 7ms/sample - loss: 6078.5060 - val_loss: 7430.4185\n",
      "Epoch 8/50\n",
      "143/143 [==============================] - 1s 7ms/sample - loss: 6087.9856 - val_loss: 6936.9113\n",
      "Epoch 9/50\n",
      "143/143 [==============================] - 1s 9ms/sample - loss: 6083.4282 - val_loss: 6943.5259\n",
      "Epoch 10/50\n",
      "143/143 [==============================] - 1s 7ms/sample - loss: 6087.5488 - val_loss: 6918.4009\n",
      "Epoch 11/50\n",
      "143/143 [==============================] - 1s 7ms/sample - loss: 6134.5633 - val_loss: 6991.5242\n",
      "Epoch 12/50\n",
      "143/143 [==============================] - 1s 7ms/sample - loss: 6154.1536 - val_loss: 6934.2186\n",
      "Epoch 13/50\n",
      "143/143 [==============================] - 1s 7ms/sample - loss: 6065.0885 - val_loss: 7112.3647\n",
      "Epoch 14/50\n",
      "143/143 [==============================] - 1s 7ms/sample - loss: 6105.3314 - val_loss: 6915.8619\n",
      "Epoch 15/50\n",
      "143/143 [==============================] - 1s 7ms/sample - loss: 6096.1260 - val_loss: 7522.4573\n",
      "Epoch 16/50\n",
      "143/143 [==============================] - 1s 7ms/sample - loss: 6159.8562 - val_loss: 7013.1401\n",
      "Epoch 17/50\n",
      "143/143 [==============================] - 1s 8ms/sample - loss: 6102.7262 - val_loss: 7122.4472\n",
      "Epoch 18/50\n",
      "143/143 [==============================] - 1s 8ms/sample - loss: 6062.8883 - val_loss: 6926.2903\n",
      "Epoch 19/50\n",
      "143/143 [==============================] - 1s 7ms/sample - loss: 6098.7114 - val_loss: 7027.3878\n",
      "Epoch 20/50\n",
      "143/143 [==============================] - 1s 7ms/sample - loss: 6133.3050 - val_loss: 6999.9087\n",
      "Epoch 21/50\n",
      "143/143 [==============================] - 1s 7ms/sample - loss: 6122.4866 - val_loss: 7063.0156\n",
      "Epoch 22/50\n",
      "143/143 [==============================] - 1s 7ms/sample - loss: 6057.0576 - val_loss: 7038.7325\n",
      "Epoch 23/50\n",
      " 60/143 [===========>..................] - ETA: 0s - loss: 6019.4754"
     ]
    }
   ],
   "source": [
    "train_model(run_name, tb, model, training_videos, training_rainfall)"
   ]
  },
  {
   "cell_type": "code",
   "execution_count": null,
   "metadata": {},
   "outputs": [],
   "source": []
  }
 ],
 "metadata": {
  "kernelspec": {
   "display_name": "Python 3",
   "language": "python",
   "name": "python3"
  },
  "language_info": {
   "codemirror_mode": {
    "name": "ipython",
    "version": 3
   },
   "file_extension": ".py",
   "mimetype": "text/x-python",
   "name": "python",
   "nbconvert_exporter": "python",
   "pygments_lexer": "ipython3",
   "version": "3.7.6"
  }
 },
 "nbformat": 4,
 "nbformat_minor": 4
}
