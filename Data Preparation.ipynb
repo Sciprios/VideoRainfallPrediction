{
 "cells": [
  {
   "cell_type": "markdown",
   "metadata": {},
   "source": [
    "# Data Preparation\n",
    "\n",
    "This script splits the meteorological data into four training and four validation data sets:\n",
    "    1. Single frame\n",
    "    2. Extreme Frames\n",
    "    3. Middle Frames\n",
    "These will each be used for single frame, late fusion, early & slow fusion respectively.\n",
    "\n",
    "The split between training and validation will be made using time periods, years:\n"
   ]
  }
 ],
 "metadata": {
  "kernelspec": {
   "display_name": "Python 3",
   "language": "python",
   "name": "python3"
  },
  "language_info": {
   "codemirror_mode": {
    "name": "ipython",
    "version": 3
   },
   "file_extension": ".py",
   "mimetype": "text/x-python",
   "name": "python",
   "nbconvert_exporter": "python",
   "pygments_lexer": "ipython3",
   "version": "3.7.6"
  }
 },
 "nbformat": 4,
 "nbformat_minor": 4
}
